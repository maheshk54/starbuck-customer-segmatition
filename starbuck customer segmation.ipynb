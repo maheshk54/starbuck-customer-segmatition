{
  "nbformat": 4,
  "nbformat_minor": 0,
  "metadata": {
    "kernelspec": {
      "display_name": "Python 3",
      "language": "python",
      "name": "python3"
    },
    "language_info": {
      "codemirror_mode": {
        "name": "ipython",
        "version": 3
      },
      "file_extension": ".py",
      "mimetype": "text/x-python",
      "name": "python",
      "nbconvert_exporter": "python",
      "pygments_lexer": "ipython3",
      "version": "3.7.3"
    },
    "colab": {
      "name": "project (2).ipynb",
      "provenance": [],
      "collapsed_sections": []
    }
  },
  "cells": [
    {
      "cell_type": "markdown",
      "metadata": {
        "id": "tlZoWCxXoYzg"
      },
      "source": [
        "# Starbucks Customer Segmentation"
      ]
    },
    {
      "cell_type": "markdown",
      "metadata": {
        "id": "3b0UAAXLoYzq"
      },
      "source": [
        "# Importing libraries"
      ]
    },
    {
      "cell_type": "code",
      "metadata": {
        "colab": {
          "base_uri": "https://localhost:8080/"
        },
        "id": "cyzn9mwWoon6",
        "outputId": "2d6e8911-34de-4b75-d7b3-30333b36e814"
      },
      "source": [
        "pip install pyspark"
      ],
      "execution_count": 284,
      "outputs": [
        {
          "output_type": "stream",
          "text": [
            "Requirement already satisfied: pyspark in /usr/local/lib/python3.6/dist-packages (3.0.1)\n",
            "Requirement already satisfied: py4j==0.10.9 in /usr/local/lib/python3.6/dist-packages (from pyspark) (0.10.9)\n"
          ],
          "name": "stdout"
        }
      ]
    },
    {
      "cell_type": "code",
      "metadata": {
        "id": "vp44-taaoYzr"
      },
      "source": [
        "import pandas as pd\n",
        "from pyspark.sql import SparkSession\n",
        "from pyspark.context import SparkContext\n",
        "from pyspark.sql.functions import *\n",
        "import time\n",
        "from pyspark import SparkFiles"
      ],
      "execution_count": 285,
      "outputs": []
    },
    {
      "cell_type": "code",
      "metadata": {
        "id": "MYHQYWhFoYzs"
      },
      "source": [
        "spark = SparkSession.builder.\\\n",
        "master(\"local\").\\\n",
        "appName(\"Word Count\").\\\n",
        "config(\"spark.some.config.option\", \"some-value\").\\\n",
        "getOrCreate()"
      ],
      "execution_count": 286,
      "outputs": []
    },
    {
      "cell_type": "markdown",
      "metadata": {
        "id": "EoLDTJZ6oYzs"
      },
      "source": [
        "# Portfolio"
      ]
    },
    {
      "cell_type": "code",
      "metadata": {
        "id": "ovL2R9aDoYzt"
      },
      "source": [
        "url1=(\"https://raw.githubusercontent.com/seifip/starbucks-customer-segmentation/master/data/portfolio.json\")\n",
        "spark.sparkContext.addFile(url1)\n",
        "portfolio = spark.read.option(\"inferSchema\", \"true\").json(SparkFiles.get(\"portfolio.json\"))"
      ],
      "execution_count": 287,
      "outputs": []
    },
    {
      "cell_type": "code",
      "metadata": {
        "colab": {
          "base_uri": "https://localhost:8080/"
        },
        "id": "doGEoca9oYzt",
        "outputId": "aca1ca85-37b4-4498-de84-ef295ef0952f"
      },
      "source": [
        "portfolio"
      ],
      "execution_count": 288,
      "outputs": [
        {
          "output_type": "execute_result",
          "data": {
            "text/plain": [
              "DataFrame[channels: array<string>, difficulty: bigint, duration: double, id: string, offer_type: string, reward: bigint]"
            ]
          },
          "metadata": {
            "tags": []
          },
          "execution_count": 288
        }
      ]
    },
    {
      "cell_type": "code",
      "metadata": {
        "colab": {
          "base_uri": "https://localhost:8080/"
        },
        "id": "tgsH2C40oYzv",
        "outputId": "91f1f9ff-a5dd-4b00-c738-20b0dfd34629"
      },
      "source": [
        "portfolio.printSchema()"
      ],
      "execution_count": 289,
      "outputs": [
        {
          "output_type": "stream",
          "text": [
            "root\n",
            " |-- channels: array (nullable = true)\n",
            " |    |-- element: string (containsNull = true)\n",
            " |-- difficulty: long (nullable = true)\n",
            " |-- duration: double (nullable = true)\n",
            " |-- id: string (nullable = true)\n",
            " |-- offer_type: string (nullable = true)\n",
            " |-- reward: long (nullable = true)\n",
            "\n"
          ],
          "name": "stdout"
        }
      ]
    },
    {
      "cell_type": "code",
      "metadata": {
        "colab": {
          "base_uri": "https://localhost:8080/"
        },
        "id": "FOepT9ZroYzv",
        "outputId": "9dbec819-37bf-43ba-c990-fd55bf247a68"
      },
      "source": [
        "portfolio.show(5)"
      ],
      "execution_count": 290,
      "outputs": [
        {
          "output_type": "stream",
          "text": [
            "+--------------------+----------+--------+--------------------+-------------+------+\n",
            "|            channels|difficulty|duration|                  id|   offer_type|reward|\n",
            "+--------------------+----------+--------+--------------------+-------------+------+\n",
            "|[email, mobile, s...|        10|     7.0|ae264e3637204a6fb...|         bogo|    10|\n",
            "|[web, email, mobi...|        10|     5.0|4d5c57ea9a6940dd8...|         bogo|    10|\n",
            "|[web, email, mobile]|         0|     4.0|3f207df678b143eea...|informational|     0|\n",
            "|[web, email, mobile]|         5|     7.0|9b98b8c7a33c4b65b...|         bogo|     5|\n",
            "|        [web, email]|        20|    10.0|0b1e1539f2cc45b7b...|     discount|     5|\n",
            "+--------------------+----------+--------+--------------------+-------------+------+\n",
            "only showing top 5 rows\n",
            "\n"
          ],
          "name": "stdout"
        }
      ]
    },
    {
      "cell_type": "code",
      "metadata": {
        "colab": {
          "base_uri": "https://localhost:8080/"
        },
        "id": "eU24UCMOoYzw",
        "outputId": "8744fee2-5f64-4b7e-b452-167b0b18c57c"
      },
      "source": [
        "portfolio.count()"
      ],
      "execution_count": 291,
      "outputs": [
        {
          "output_type": "execute_result",
          "data": {
            "text/plain": [
              "10"
            ]
          },
          "metadata": {
            "tags": []
          },
          "execution_count": 291
        }
      ]
    },
    {
      "cell_type": "markdown",
      "metadata": {
        "id": "wWUuuXIVoYzw"
      },
      "source": [
        "# Profile"
      ]
    },
    {
      "cell_type": "code",
      "metadata": {
        "id": "9jmHwtenoYzx"
      },
      "source": [
        "url2=(\"https://raw.githubusercontent.com/seifip/starbucks-customer-segmentation/master/data/profile.json\")\n",
        "spark.sparkContext.addFile(url2)\n",
        "profile = spark.read.option(\"inferSchema\", \"true\").json(SparkFiles.get(\"profile.json\"))"
      ],
      "execution_count": 292,
      "outputs": []
    },
    {
      "cell_type": "code",
      "metadata": {
        "colab": {
          "base_uri": "https://localhost:8080/"
        },
        "id": "misZtCPCoYzx",
        "outputId": "9ac91cc9-1223-49b7-9c62-ea0ee587a855"
      },
      "source": [
        "profile"
      ],
      "execution_count": 293,
      "outputs": [
        {
          "output_type": "execute_result",
          "data": {
            "text/plain": [
              "DataFrame[age: bigint, became_member_on: string, gender: string, id: string, income: bigint]"
            ]
          },
          "metadata": {
            "tags": []
          },
          "execution_count": 293
        }
      ]
    },
    {
      "cell_type": "code",
      "metadata": {
        "colab": {
          "base_uri": "https://localhost:8080/"
        },
        "id": "njk7iaNHoYzx",
        "outputId": "048b9ffa-38a7-4a5e-bd47-d6118f6d1706"
      },
      "source": [
        "profile.printSchema()"
      ],
      "execution_count": 294,
      "outputs": [
        {
          "output_type": "stream",
          "text": [
            "root\n",
            " |-- age: long (nullable = true)\n",
            " |-- became_member_on: string (nullable = true)\n",
            " |-- gender: string (nullable = true)\n",
            " |-- id: string (nullable = true)\n",
            " |-- income: long (nullable = true)\n",
            "\n"
          ],
          "name": "stdout"
        }
      ]
    },
    {
      "cell_type": "code",
      "metadata": {
        "colab": {
          "base_uri": "https://localhost:8080/"
        },
        "id": "4gSr0uHQoYzy",
        "outputId": "b76c5e74-e341-468a-ee14-197771c60ec4"
      },
      "source": [
        "profile.show(5)"
      ],
      "execution_count": 295,
      "outputs": [
        {
          "output_type": "stream",
          "text": [
            "+---+----------------+------+--------------------+------+\n",
            "|age|became_member_on|gender|                  id|income|\n",
            "+---+----------------+------+--------------------+------+\n",
            "|118|        20170212|  null|68be06ca386d4c319...|  null|\n",
            "| 55|        20170715|     F|0610b486422d4921a...|112000|\n",
            "|118|        20180712|  null|38fe809add3b4fcf9...|  null|\n",
            "| 75|        20170509|     F|78afa995795e4d85b...|100000|\n",
            "|118|        20170804|  null|a03223e636434f42a...|  null|\n",
            "+---+----------------+------+--------------------+------+\n",
            "only showing top 5 rows\n",
            "\n"
          ],
          "name": "stdout"
        }
      ]
    },
    {
      "cell_type": "code",
      "metadata": {
        "colab": {
          "base_uri": "https://localhost:8080/"
        },
        "id": "nXuMW2I5oYzy",
        "outputId": "29e765d1-52cd-4963-9a1d-96fdb0c8c656"
      },
      "source": [
        "profile.count()"
      ],
      "execution_count": 296,
      "outputs": [
        {
          "output_type": "execute_result",
          "data": {
            "text/plain": [
              "17000"
            ]
          },
          "metadata": {
            "tags": []
          },
          "execution_count": 296
        }
      ]
    },
    {
      "cell_type": "markdown",
      "metadata": {
        "id": "qdumUFZ3oYzz"
      },
      "source": [
        "# Transcript"
      ]
    },
    {
      "cell_type": "code",
      "metadata": {
        "id": "SaPb2GsroYzz"
      },
      "source": [
        "url3=(\"https://raw.githubusercontent.com/seifip/starbucks-customer-segmentation/master/data/transcript.json\")\n",
        "spark.sparkContext.addFile(url3)\n",
        "transcript = spark.read.option(\"inferSchema\", \"true\").json(SparkFiles.get(\"transcript.json\"))"
      ],
      "execution_count": 297,
      "outputs": []
    },
    {
      "cell_type": "code",
      "metadata": {
        "colab": {
          "base_uri": "https://localhost:8080/"
        },
        "id": "zYtkxNpCoYzz",
        "outputId": "ba66b625-ed5a-4306-ef8b-f9ffa5af9787"
      },
      "source": [
        "transcript"
      ],
      "execution_count": 298,
      "outputs": [
        {
          "output_type": "execute_result",
          "data": {
            "text/plain": [
              "DataFrame[event: string, person: string, time: bigint, value: struct<amount:double,offer id:string,offer_id:string,reward:bigint>]"
            ]
          },
          "metadata": {
            "tags": []
          },
          "execution_count": 298
        }
      ]
    },
    {
      "cell_type": "code",
      "metadata": {
        "colab": {
          "base_uri": "https://localhost:8080/"
        },
        "id": "bBws1GKNoYz0",
        "outputId": "91af35db-3ee4-496e-80fd-0e385098c3ad"
      },
      "source": [
        "transcript.printSchema()"
      ],
      "execution_count": 299,
      "outputs": [
        {
          "output_type": "stream",
          "text": [
            "root\n",
            " |-- event: string (nullable = true)\n",
            " |-- person: string (nullable = true)\n",
            " |-- time: long (nullable = true)\n",
            " |-- value: struct (nullable = true)\n",
            " |    |-- amount: double (nullable = true)\n",
            " |    |-- offer id: string (nullable = true)\n",
            " |    |-- offer_id: string (nullable = true)\n",
            " |    |-- reward: long (nullable = true)\n",
            "\n"
          ],
          "name": "stdout"
        }
      ]
    },
    {
      "cell_type": "code",
      "metadata": {
        "colab": {
          "base_uri": "https://localhost:8080/"
        },
        "id": "j3khZtR6oYz0",
        "outputId": "6b1bb6ac-a3a4-42e8-d5fd-aec4f4fdda6c"
      },
      "source": [
        "transcript.show(5)"
      ],
      "execution_count": 300,
      "outputs": [
        {
          "output_type": "stream",
          "text": [
            "+--------------+--------------------+----+--------------------+\n",
            "|         event|              person|time|               value|\n",
            "+--------------+--------------------+----+--------------------+\n",
            "|offer received|78afa995795e4d85b...|   0|[, 9b98b8c7a33c4b...|\n",
            "|offer received|a03223e636434f42a...|   0|[, 0b1e1539f2cc45...|\n",
            "|offer received|e2127556f4f64592b...|   0|[, 2906b810c7d441...|\n",
            "|offer received|8ec6ce2a7e7949b1b...|   0|[, fafdcd668e3743...|\n",
            "|offer received|68617ca6246f4fbc8...|   0|[, 4d5c57ea9a6940...|\n",
            "+--------------+--------------------+----+--------------------+\n",
            "only showing top 5 rows\n",
            "\n"
          ],
          "name": "stdout"
        }
      ]
    },
    {
      "cell_type": "code",
      "metadata": {
        "colab": {
          "base_uri": "https://localhost:8080/"
        },
        "id": "v4gez5EDoYz1",
        "outputId": "4d9a232f-9921-4930-ca51-9f3afe4d310a"
      },
      "source": [
        "transcript.count()"
      ],
      "execution_count": 301,
      "outputs": [
        {
          "output_type": "execute_result",
          "data": {
            "text/plain": [
              "306534"
            ]
          },
          "metadata": {
            "tags": []
          },
          "execution_count": 301
        }
      ]
    },
    {
      "cell_type": "code",
      "metadata": {
        "colab": {
          "base_uri": "https://localhost:8080/"
        },
        "id": "r5Rr301coYz1",
        "outputId": "8d29a16e-efb4-4912-d352-7ea0036f8d78"
      },
      "source": [
        "type(transcript)"
      ],
      "execution_count": 302,
      "outputs": [
        {
          "output_type": "execute_result",
          "data": {
            "text/plain": [
              "pyspark.sql.dataframe.DataFrame"
            ]
          },
          "metadata": {
            "tags": []
          },
          "execution_count": 302
        }
      ]
    },
    {
      "cell_type": "code",
      "metadata": {
        "id": "ttf19T7xoYz1"
      },
      "source": [
        ""
      ],
      "execution_count": 302,
      "outputs": []
    },
    {
      "cell_type": "code",
      "metadata": {
        "colab": {
          "base_uri": "https://localhost:8080/"
        },
        "id": "CztCJWjBoYz2",
        "outputId": "8a60adb6-8c2a-40d5-f228-4c98692240d8"
      },
      "source": [
        "portfolio.show()"
      ],
      "execution_count": 303,
      "outputs": [
        {
          "output_type": "stream",
          "text": [
            "+--------------------+----------+--------+--------------------+-------------+------+\n",
            "|            channels|difficulty|duration|                  id|   offer_type|reward|\n",
            "+--------------------+----------+--------+--------------------+-------------+------+\n",
            "|[email, mobile, s...|        10|     7.0|ae264e3637204a6fb...|         bogo|    10|\n",
            "|[web, email, mobi...|        10|     5.0|4d5c57ea9a6940dd8...|         bogo|    10|\n",
            "|[web, email, mobile]|         0|     4.0|3f207df678b143eea...|informational|     0|\n",
            "|[web, email, mobile]|         5|     7.0|9b98b8c7a33c4b65b...|         bogo|     5|\n",
            "|        [web, email]|        20|    10.0|0b1e1539f2cc45b7b...|     discount|     5|\n",
            "|[web, email, mobi...|         7|     7.0|2298d6c36e964ae4a...|     discount|     3|\n",
            "|[web, email, mobi...|        10|    10.0|fafdcd668e3743c1b...|     discount|     2|\n",
            "|[email, mobile, s...|         0|     3.0|5a8bc65990b245e5a...|informational|     0|\n",
            "|[web, email, mobi...|         5|     5.0|f19421c1d4aa40978...|         bogo|     5|\n",
            "|[web, email, mobile]|        10|     7.0|2906b810c7d441179...|     discount|     2|\n",
            "+--------------------+----------+--------+--------------------+-------------+------+\n",
            "\n"
          ],
          "name": "stdout"
        }
      ]
    },
    {
      "cell_type": "code",
      "metadata": {
        "colab": {
          "base_uri": "https://localhost:8080/"
        },
        "id": "V1btX6EToYz2",
        "outputId": "33e7eeca-5e5c-459c-9763-4dd6bc481965"
      },
      "source": [
        "profile.show()"
      ],
      "execution_count": 304,
      "outputs": [
        {
          "output_type": "stream",
          "text": [
            "+---+----------------+------+--------------------+------+\n",
            "|age|became_member_on|gender|                  id|income|\n",
            "+---+----------------+------+--------------------+------+\n",
            "|118|        20170212|  null|68be06ca386d4c319...|  null|\n",
            "| 55|        20170715|     F|0610b486422d4921a...|112000|\n",
            "|118|        20180712|  null|38fe809add3b4fcf9...|  null|\n",
            "| 75|        20170509|     F|78afa995795e4d85b...|100000|\n",
            "|118|        20170804|  null|a03223e636434f42a...|  null|\n",
            "| 68|        20180426|     M|e2127556f4f64592b...| 70000|\n",
            "|118|        20170925|  null|8ec6ce2a7e7949b1b...|  null|\n",
            "|118|        20171002|  null|68617ca6246f4fbc8...|  null|\n",
            "| 65|        20180209|     M|389bc3fa690240e79...| 53000|\n",
            "|118|        20161122|  null|8974fc5686fe429db...|  null|\n",
            "|118|        20170824|  null|c4863c7985cf408fa...|  null|\n",
            "|118|        20150919|  null|148adfcaa27d485b8...|  null|\n",
            "| 58|        20171111|     M|2eeac8d8feae4a8ca...| 51000|\n",
            "| 61|        20170911|     F|aa4862eba776480b8...| 57000|\n",
            "| 26|        20140213|     M|e12aeaf2d47d42479...| 46000|\n",
            "| 62|        20160211|     F|31dda685af34476ca...| 71000|\n",
            "| 49|        20141113|     M|62cf5e10845442329...| 52000|\n",
            "|118|        20170801|  null|744d603ef08c4f33a...|  null|\n",
            "| 57|        20171231|     M|6445de3b47274c759...| 42000|\n",
            "| 61|        20180501|     F|a448667f336b42c9a...| 40000|\n",
            "+---+----------------+------+--------------------+------+\n",
            "only showing top 20 rows\n",
            "\n"
          ],
          "name": "stdout"
        }
      ]
    },
    {
      "cell_type": "code",
      "metadata": {
        "colab": {
          "base_uri": "https://localhost:8080/"
        },
        "id": "jlta-oH_oYz2",
        "outputId": "fdd6e301-0e89-485c-975a-391339c7c6f4"
      },
      "source": [
        "transcript.show()"
      ],
      "execution_count": 305,
      "outputs": [
        {
          "output_type": "stream",
          "text": [
            "+--------------+--------------------+----+--------------------+\n",
            "|         event|              person|time|               value|\n",
            "+--------------+--------------------+----+--------------------+\n",
            "|offer received|78afa995795e4d85b...|   0|[, 9b98b8c7a33c4b...|\n",
            "|offer received|a03223e636434f42a...|   0|[, 0b1e1539f2cc45...|\n",
            "|offer received|e2127556f4f64592b...|   0|[, 2906b810c7d441...|\n",
            "|offer received|8ec6ce2a7e7949b1b...|   0|[, fafdcd668e3743...|\n",
            "|offer received|68617ca6246f4fbc8...|   0|[, 4d5c57ea9a6940...|\n",
            "|offer received|389bc3fa690240e79...|   0|[, f19421c1d4aa40...|\n",
            "|offer received|c4863c7985cf408fa...|   0|[, 2298d6c36e964a...|\n",
            "|offer received|2eeac8d8feae4a8ca...|   0|[, 3f207df678b143...|\n",
            "|offer received|aa4862eba776480b8...|   0|[, 0b1e1539f2cc45...|\n",
            "|offer received|31dda685af34476ca...|   0|[, 0b1e1539f2cc45...|\n",
            "|offer received|744d603ef08c4f33a...|   0|[, 0b1e1539f2cc45...|\n",
            "|offer received|3d02345581554e81b...|   0|[, 0b1e1539f2cc45...|\n",
            "|offer received|4b0da7e80e5945209...|   0|[, ae264e3637204a...|\n",
            "|offer received|c27e0d6ab72c455a8...|   0|[, 3f207df678b143...|\n",
            "|offer received|d53717f5400c4e84a...|   0|[, 0b1e1539f2cc45...|\n",
            "|offer received|f806632c011441378...|   0|[, fafdcd668e3743...|\n",
            "|offer received|d058f73bf8674a26a...|   0|[, 0b1e1539f2cc45...|\n",
            "|offer received|65aba5c617294649a...|   0|[, 2906b810c7d441...|\n",
            "|offer received|ebe7ef46ea6f4963a...|   0|[, 9b98b8c7a33c4b...|\n",
            "|offer received|1e9420836d554513a...|   0|[, ae264e3637204a...|\n",
            "+--------------+--------------------+----+--------------------+\n",
            "only showing top 20 rows\n",
            "\n"
          ],
          "name": "stdout"
        }
      ]
    },
    {
      "cell_type": "markdown",
      "metadata": {
        "id": "X-t33nvYoYz3"
      },
      "source": [
        "# Data Wrangling"
      ]
    },
    {
      "cell_type": "code",
      "metadata": {
        "id": "9uZQRs4SoYz3"
      },
      "source": [
        "# Removing duplicate rows for all the datasets\n",
        "profile = profile.distinct()\n",
        "portfolio = portfolio.distinct()\n",
        "transcript = transcript.distinct()"
      ],
      "execution_count": 306,
      "outputs": []
    },
    {
      "cell_type": "markdown",
      "metadata": {
        "id": "vU3ODhNboYz3"
      },
      "source": [
        "### Profile :"
      ]
    },
    {
      "cell_type": "code",
      "metadata": {
        "colab": {
          "base_uri": "https://localhost:8080/"
        },
        "id": "iZm5bdM3oYz3",
        "outputId": "a7ab4e5c-aaf0-4553-dcf5-fb9619b18724"
      },
      "source": [
        "# Checking Null values are present or not for all the columns\n",
        "profile.select(\"age\").filter(\"age is null\").show(1)\n",
        "profile.select(\"became_member_on\").filter(\"became_member_on is null\").show(1)\n",
        "profile.select(\"gender\").filter(\"gender is null\").show(1)\n",
        "profile.select(\"id\").filter(\"id is null\").show(1)\n",
        "profile.select(\"income\").filter(\"income is null\").show(1)"
      ],
      "execution_count": 307,
      "outputs": [
        {
          "output_type": "stream",
          "text": [
            "+---+\n",
            "|age|\n",
            "+---+\n",
            "+---+\n",
            "\n",
            "+----------------+\n",
            "|became_member_on|\n",
            "+----------------+\n",
            "+----------------+\n",
            "\n",
            "+------+\n",
            "|gender|\n",
            "+------+\n",
            "|  null|\n",
            "+------+\n",
            "only showing top 1 row\n",
            "\n",
            "+---+\n",
            "| id|\n",
            "+---+\n",
            "+---+\n",
            "\n",
            "+------+\n",
            "|income|\n",
            "+------+\n",
            "|  null|\n",
            "+------+\n",
            "only showing top 1 row\n",
            "\n"
          ],
          "name": "stdout"
        }
      ]
    },
    {
      "cell_type": "code",
      "metadata": {
        "colab": {
          "base_uri": "https://localhost:8080/"
        },
        "id": "xL_HdZwDoYz4",
        "outputId": "0cfe5d57-3b45-4b66-d57d-a45bb3dd35d9"
      },
      "source": [
        "# working on null values\n",
        "\n",
        "# filling null values of gender and became_member_on columns with NA\n",
        "profile = profile.na.fill({'gender': 'NA','became_member_on':'NA'})\n",
        "\n",
        "# filling income column's null values with the mean or average value of income column\n",
        "from pyspark.sql.functions import mean\n",
        "mean_val = profile.select(mean(profile.income)).collect()\n",
        "mean_val\n",
        "mean_income = mean_val[0][0]\n",
        "#now using mean_income value to fill the nulls in income column\n",
        "profile = profile.na.fill(mean_income,subset=['income'])\n",
        "\n",
        "# filling age column's null values with the mean or average value of age column\n",
        "mean_values = profile.select(mean(profile.age)).collect()\n",
        "mean_values\n",
        "mean_age = mean_values[0][0]\n",
        "#now using mean_age value to fill the nulls in age column\n",
        "profile = profile.na.fill(mean_age,subset=['age'])\n",
        "\n",
        "# removing rows where null is present in id column (primary key)\n",
        "profile = profile.filter(\"id is not null\")\n",
        "profile.show()\n"
      ],
      "execution_count": 308,
      "outputs": [
        {
          "output_type": "stream",
          "text": [
            "+---+----------------+------+--------------------+------+\n",
            "|age|became_member_on|gender|                  id|income|\n",
            "+---+----------------+------+--------------------+------+\n",
            "| 58|        20161231|     F|73c157a4b8e342fcb...| 95000|\n",
            "| 57|        20180429|     M|717a423a31284ce1b...| 41000|\n",
            "|118|        20150823|    NA|59a12422f83746789...| 65404|\n",
            "|118|        20151210|    NA|149f67791ca9431bb...| 65404|\n",
            "| 23|        20140719|     M|0c0af42e1e804ded9...| 65000|\n",
            "| 51|        20170501|     F|b87a63894b164eae8...| 91000|\n",
            "| 55|        20160611|     F|992aed77ecda4f518...| 58000|\n",
            "| 36|        20150305|     M|ed53076edc1d445ca...| 37000|\n",
            "|100|        20170905|     F|28bbebb2b76f4057b...|118000|\n",
            "| 68|        20170208|     F|77a05cdcda3e431eb...| 88000|\n",
            "|118|        20150812|    NA|3f8b8ce1768d42758...| 65404|\n",
            "| 75|        20160108|     M|ec71b22a0ce543188...| 80000|\n",
            "| 72|        20171027|     M|13d9215510ae4f508...| 67000|\n",
            "|118|        20170608|    NA|41aaf597e9524875a...| 65404|\n",
            "| 66|        20171010|     M|09a6798f587a404c8...| 54000|\n",
            "| 85|        20170121|     M|1ea8fb8df7364b6da...| 46000|\n",
            "| 77|        20180313|     F|67e6be3bd5c44381b...| 37000|\n",
            "| 52|        20171003|     M|2bd6a1c9019240538...| 90000|\n",
            "| 45|        20180314|     M|d21a703697804c059...| 49000|\n",
            "| 74|        20171202|     M|4fbb451301b54298a...| 67000|\n",
            "+---+----------------+------+--------------------+------+\n",
            "only showing top 20 rows\n",
            "\n"
          ],
          "name": "stdout"
        }
      ]
    },
    {
      "cell_type": "code",
      "metadata": {
        "colab": {
          "base_uri": "https://localhost:8080/"
        },
        "id": "aaf9Mg_SoYz4",
        "outputId": "171a9912-1798-4c27-feb0-aa747743e2da"
      },
      "source": [
        "# dropping rows having age > 100\n",
        "profile = profile.filter(\"age <= 75\")\n",
        "profile.show()\n",
        "\n",
        "print(\"unique genders are :\")\n",
        "profile.select(\"gender\").distinct().show()"
      ],
      "execution_count": 309,
      "outputs": [
        {
          "output_type": "stream",
          "text": [
            "+---+----------------+------+--------------------+------+\n",
            "|age|became_member_on|gender|                  id|income|\n",
            "+---+----------------+------+--------------------+------+\n",
            "| 58|        20161231|     F|73c157a4b8e342fcb...| 95000|\n",
            "| 57|        20180429|     M|717a423a31284ce1b...| 41000|\n",
            "| 23|        20140719|     M|0c0af42e1e804ded9...| 65000|\n",
            "| 51|        20170501|     F|b87a63894b164eae8...| 91000|\n",
            "| 55|        20160611|     F|992aed77ecda4f518...| 58000|\n",
            "| 36|        20150305|     M|ed53076edc1d445ca...| 37000|\n",
            "| 68|        20170208|     F|77a05cdcda3e431eb...| 88000|\n",
            "| 75|        20160108|     M|ec71b22a0ce543188...| 80000|\n",
            "| 72|        20171027|     M|13d9215510ae4f508...| 67000|\n",
            "| 66|        20171010|     M|09a6798f587a404c8...| 54000|\n",
            "| 52|        20171003|     M|2bd6a1c9019240538...| 90000|\n",
            "| 45|        20180314|     M|d21a703697804c059...| 49000|\n",
            "| 74|        20171202|     M|4fbb451301b54298a...| 67000|\n",
            "| 73|        20170609|     M|d310ea670c7149a1b...| 67000|\n",
            "| 43|        20180513|     M|f0fad43df34646d6b...| 45000|\n",
            "| 32|        20171023|     M|a2d3f996f0434f09a...| 40000|\n",
            "| 37|        20180426|     F|9fc020a356b54c29b...| 45000|\n",
            "| 64|        20171020|     M|2ecc1d321e4241f38...| 51000|\n",
            "| 47|        20171209|     F|45979ca39db84f0b8...| 72000|\n",
            "| 48|        20170428|     M|7b16ed6d6af641b48...| 53000|\n",
            "+---+----------------+------+--------------------+------+\n",
            "only showing top 20 rows\n",
            "\n",
            "unique genders are :\n",
            "+------+\n",
            "|gender|\n",
            "+------+\n",
            "|     F|\n",
            "|     M|\n",
            "|     O|\n",
            "+------+\n",
            "\n"
          ],
          "name": "stdout"
        }
      ]
    },
    {
      "cell_type": "code",
      "metadata": {
        "colab": {
          "base_uri": "https://localhost:8080/"
        },
        "id": "yRMSL7weoYz5",
        "outputId": "024b90c2-17be-4106-cce3-bb566e42b391"
      },
      "source": [
        "# converting str to date format for \"became_member_on\" column\n",
        "profile = profile.withColumn(\"became_member_on\", coalesce(to_date(\"became_member_on\", \"yyyyMMdd\")))\n",
        "profile.show()\n",
        "profile.printSchema()"
      ],
      "execution_count": 310,
      "outputs": [
        {
          "output_type": "stream",
          "text": [
            "+---+----------------+------+--------------------+------+\n",
            "|age|became_member_on|gender|                  id|income|\n",
            "+---+----------------+------+--------------------+------+\n",
            "| 58|      2016-12-31|     F|73c157a4b8e342fcb...| 95000|\n",
            "| 57|      2018-04-29|     M|717a423a31284ce1b...| 41000|\n",
            "| 23|      2014-07-19|     M|0c0af42e1e804ded9...| 65000|\n",
            "| 51|      2017-05-01|     F|b87a63894b164eae8...| 91000|\n",
            "| 55|      2016-06-11|     F|992aed77ecda4f518...| 58000|\n",
            "| 36|      2015-03-05|     M|ed53076edc1d445ca...| 37000|\n",
            "| 68|      2017-02-08|     F|77a05cdcda3e431eb...| 88000|\n",
            "| 75|      2016-01-08|     M|ec71b22a0ce543188...| 80000|\n",
            "| 72|      2017-10-27|     M|13d9215510ae4f508...| 67000|\n",
            "| 66|      2017-10-10|     M|09a6798f587a404c8...| 54000|\n",
            "| 52|      2017-10-03|     M|2bd6a1c9019240538...| 90000|\n",
            "| 45|      2018-03-14|     M|d21a703697804c059...| 49000|\n",
            "| 74|      2017-12-02|     M|4fbb451301b54298a...| 67000|\n",
            "| 73|      2017-06-09|     M|d310ea670c7149a1b...| 67000|\n",
            "| 43|      2018-05-13|     M|f0fad43df34646d6b...| 45000|\n",
            "| 32|      2017-10-23|     M|a2d3f996f0434f09a...| 40000|\n",
            "| 37|      2018-04-26|     F|9fc020a356b54c29b...| 45000|\n",
            "| 64|      2017-10-20|     M|2ecc1d321e4241f38...| 51000|\n",
            "| 47|      2017-12-09|     F|45979ca39db84f0b8...| 72000|\n",
            "| 48|      2017-04-28|     M|7b16ed6d6af641b48...| 53000|\n",
            "+---+----------------+------+--------------------+------+\n",
            "only showing top 20 rows\n",
            "\n",
            "root\n",
            " |-- age: long (nullable = true)\n",
            " |-- became_member_on: date (nullable = true)\n",
            " |-- gender: string (nullable = false)\n",
            " |-- id: string (nullable = true)\n",
            " |-- income: long (nullable = true)\n",
            "\n"
          ],
          "name": "stdout"
        }
      ]
    },
    {
      "cell_type": "code",
      "metadata": {
        "colab": {
          "base_uri": "https://localhost:8080/"
        },
        "id": "jbK7RSevoYz5",
        "outputId": "39e0bb08-087b-4da3-d592-d4d8f5abe4b0"
      },
      "source": [
        "print('Descriptive stats for age and income:')\n",
        "profile.describe().show()"
      ],
      "execution_count": 311,
      "outputs": [
        {
          "output_type": "stream",
          "text": [
            "Descriptive stats for age and income:\n",
            "+-------+------------------+------+--------------------+-----------------+\n",
            "|summary|               age|gender|                  id|           income|\n",
            "+-------+------------------+------+--------------------+-----------------+\n",
            "|  count|             13175| 13175|               13175|            13175|\n",
            "|   mean| 50.78998102466793|  null|2.565638242424101E31|64636.81214421253|\n",
            "| stddev|14.804504804077265|  null|                 NaN|21384.17799749065|\n",
            "|    min|                18|     F|0009655768c64bdeb...|            30000|\n",
            "|    max|                75|     O|ffff82501cea40309...|           120000|\n",
            "+-------+------------------+------+--------------------+-----------------+\n",
            "\n"
          ],
          "name": "stdout"
        }
      ]
    },
    {
      "cell_type": "code",
      "metadata": {
        "colab": {
          "base_uri": "https://localhost:8080/"
        },
        "id": "ydWp8Yt4oYz5",
        "outputId": "59e1e0ba-ef99-44b8-fc3f-a66065ed4c08"
      },
      "source": [
        "profile.show()"
      ],
      "execution_count": 312,
      "outputs": [
        {
          "output_type": "stream",
          "text": [
            "+---+----------------+------+--------------------+------+\n",
            "|age|became_member_on|gender|                  id|income|\n",
            "+---+----------------+------+--------------------+------+\n",
            "| 58|      2016-12-31|     F|73c157a4b8e342fcb...| 95000|\n",
            "| 57|      2018-04-29|     M|717a423a31284ce1b...| 41000|\n",
            "| 23|      2014-07-19|     M|0c0af42e1e804ded9...| 65000|\n",
            "| 51|      2017-05-01|     F|b87a63894b164eae8...| 91000|\n",
            "| 55|      2016-06-11|     F|992aed77ecda4f518...| 58000|\n",
            "| 36|      2015-03-05|     M|ed53076edc1d445ca...| 37000|\n",
            "| 68|      2017-02-08|     F|77a05cdcda3e431eb...| 88000|\n",
            "| 75|      2016-01-08|     M|ec71b22a0ce543188...| 80000|\n",
            "| 72|      2017-10-27|     M|13d9215510ae4f508...| 67000|\n",
            "| 66|      2017-10-10|     M|09a6798f587a404c8...| 54000|\n",
            "| 52|      2017-10-03|     M|2bd6a1c9019240538...| 90000|\n",
            "| 45|      2018-03-14|     M|d21a703697804c059...| 49000|\n",
            "| 74|      2017-12-02|     M|4fbb451301b54298a...| 67000|\n",
            "| 73|      2017-06-09|     M|d310ea670c7149a1b...| 67000|\n",
            "| 43|      2018-05-13|     M|f0fad43df34646d6b...| 45000|\n",
            "| 32|      2017-10-23|     M|a2d3f996f0434f09a...| 40000|\n",
            "| 37|      2018-04-26|     F|9fc020a356b54c29b...| 45000|\n",
            "| 64|      2017-10-20|     M|2ecc1d321e4241f38...| 51000|\n",
            "| 47|      2017-12-09|     F|45979ca39db84f0b8...| 72000|\n",
            "| 48|      2017-04-28|     M|7b16ed6d6af641b48...| 53000|\n",
            "+---+----------------+------+--------------------+------+\n",
            "only showing top 20 rows\n",
            "\n"
          ],
          "name": "stdout"
        }
      ]
    },
    {
      "cell_type": "code",
      "metadata": {
        "colab": {
          "base_uri": "https://localhost:8080/"
        },
        "id": "gORb9-1voYz6",
        "outputId": "3ec767a6-e3dc-40d6-b824-4430ef41899b"
      },
      "source": [
        "# Checking again Null values are present or not for all the columns\n",
        "profile.select(\"age\").filter(\"age is null\").show(1)\n",
        "profile.select(\"became_member_on\").filter(\"became_member_on is null\").show(1)\n",
        "profile.select(\"gender\").filter(\"gender is null\").show(1)\n",
        "profile.select(\"id\").filter(\"id is null\").show(1)\n",
        "profile.select(\"income\").filter(\"income is null\").show(1)"
      ],
      "execution_count": 313,
      "outputs": [
        {
          "output_type": "stream",
          "text": [
            "+---+\n",
            "|age|\n",
            "+---+\n",
            "+---+\n",
            "\n",
            "+----------------+\n",
            "|became_member_on|\n",
            "+----------------+\n",
            "+----------------+\n",
            "\n",
            "+------+\n",
            "|gender|\n",
            "+------+\n",
            "+------+\n",
            "\n",
            "+---+\n",
            "| id|\n",
            "+---+\n",
            "+---+\n",
            "\n",
            "+------+\n",
            "|income|\n",
            "+------+\n",
            "+------+\n",
            "\n"
          ],
          "name": "stdout"
        }
      ]
    },
    {
      "cell_type": "markdown",
      "metadata": {
        "id": "fT-alFqgoYz6"
      },
      "source": [
        "### Transcript :"
      ]
    },
    {
      "cell_type": "code",
      "metadata": {
        "colab": {
          "base_uri": "https://localhost:8080/"
        },
        "id": "LBTF8PZVoYz6",
        "outputId": "f96120f3-4822-441a-e850-96e20d597159"
      },
      "source": [
        "transcript.show()"
      ],
      "execution_count": 314,
      "outputs": [
        {
          "output_type": "stream",
          "text": [
            "+--------------+--------------------+----+--------------------+\n",
            "|         event|              person|time|               value|\n",
            "+--------------+--------------------+----+--------------------+\n",
            "|offer received|bf2c086d4c4049289...|   0|[, 9b98b8c7a33c4b...|\n",
            "|offer received|27aa749a6f5f448e9...|   0|[, 5a8bc65990b245...|\n",
            "|offer received|b94c7601b17b41609...|   0|[, ae264e3637204a...|\n",
            "|offer received|696493b9f616411a8...|   0|[, fafdcd668e3743...|\n",
            "|offer received|56163abfe5a848deb...|   0|[, f19421c1d4aa40...|\n",
            "|offer received|abf29a94ba3d46488...|   0|[, 5a8bc65990b245...|\n",
            "|offer received|23264960b6724afea...|   0|[, 2298d6c36e964a...|\n",
            "|offer received|7fc12dee8c9144f3b...|   0|[, fafdcd668e3743...|\n",
            "|offer received|cf8dc5cf3dc84f648...|   0|[, 5a8bc65990b245...|\n",
            "|offer received|269424f345f6478e8...|   0|[, 2906b810c7d441...|\n",
            "|offer received|fcbf38029321416f9...|   0|[, fafdcd668e3743...|\n",
            "|offer received|2f21db46b5f84be5b...|   0|[, ae264e3637204a...|\n",
            "|offer received|e5c59811346840e2a...|   0|[, 4d5c57ea9a6940...|\n",
            "|offer received|e633a9090fc746a38...|   0|[, fafdcd668e3743...|\n",
            "|offer received|b519d8d3bc1c429b8...|   0|[, fafdcd668e3743...|\n",
            "|offer received|6f6d0c5ddfdb431d9...|   0|[, 2906b810c7d441...|\n",
            "|offer received|30ab0845fe8c4da38...|   0|[, fafdcd668e3743...|\n",
            "|offer received|dd2676580c2f4926b...|   0|[, 9b98b8c7a33c4b...|\n",
            "|offer received|7d76c5a597f7490e8...|   0|[, 3f207df678b143...|\n",
            "|offer received|d98603fa5f1a4d21a...|   0|[, 2906b810c7d441...|\n",
            "+--------------+--------------------+----+--------------------+\n",
            "only showing top 20 rows\n",
            "\n"
          ],
          "name": "stdout"
        }
      ]
    },
    {
      "cell_type": "code",
      "metadata": {
        "colab": {
          "base_uri": "https://localhost:8080/"
        },
        "id": "vSH8mo-0oYz7",
        "outputId": "e26a84df-b686-4e13-e8cf-d29cee3bf55d"
      },
      "source": [
        "# Checking null values are present or not for all the common columns\n",
        "transcript.select(\"event\").filter(\"event is null\").show(1)\n",
        "transcript.select(\"person\").filter(\"person is null\").show(1)\n",
        "transcript.select(\"time\").filter(\"time is null\").show(1)"
      ],
      "execution_count": 315,
      "outputs": [
        {
          "output_type": "stream",
          "text": [
            "+-----+\n",
            "|event|\n",
            "+-----+\n",
            "+-----+\n",
            "\n",
            "+------+\n",
            "|person|\n",
            "+------+\n",
            "+------+\n",
            "\n",
            "+----+\n",
            "|time|\n",
            "+----+\n",
            "+----+\n",
            "\n"
          ],
          "name": "stdout"
        }
      ]
    },
    {
      "cell_type": "code",
      "metadata": {
        "colab": {
          "base_uri": "https://localhost:8080/"
        },
        "id": "JzT4nU7yoYz7",
        "outputId": "1b7ff7d3-d25b-45f0-e95f-22af41ff0c5c"
      },
      "source": [
        "# working on null values for all the common columns\n",
        "\n",
        "# filling null values for event and time columns\n",
        "transcript = transcript.na.fill({'event': 'NA','time': 0})\n",
        "\n",
        "# removing rows where null is present in person column (primary key)\n",
        "transcript = transcript.filter(\"person is not null\")\n",
        "\n",
        "transcript.show()"
      ],
      "execution_count": 316,
      "outputs": [
        {
          "output_type": "stream",
          "text": [
            "+--------------+--------------------+----+--------------------+\n",
            "|         event|              person|time|               value|\n",
            "+--------------+--------------------+----+--------------------+\n",
            "|offer received|bf2c086d4c4049289...|   0|[, 9b98b8c7a33c4b...|\n",
            "|offer received|27aa749a6f5f448e9...|   0|[, 5a8bc65990b245...|\n",
            "|offer received|b94c7601b17b41609...|   0|[, ae264e3637204a...|\n",
            "|offer received|696493b9f616411a8...|   0|[, fafdcd668e3743...|\n",
            "|offer received|56163abfe5a848deb...|   0|[, f19421c1d4aa40...|\n",
            "|offer received|abf29a94ba3d46488...|   0|[, 5a8bc65990b245...|\n",
            "|offer received|23264960b6724afea...|   0|[, 2298d6c36e964a...|\n",
            "|offer received|7fc12dee8c9144f3b...|   0|[, fafdcd668e3743...|\n",
            "|offer received|cf8dc5cf3dc84f648...|   0|[, 5a8bc65990b245...|\n",
            "|offer received|269424f345f6478e8...|   0|[, 2906b810c7d441...|\n",
            "|offer received|fcbf38029321416f9...|   0|[, fafdcd668e3743...|\n",
            "|offer received|2f21db46b5f84be5b...|   0|[, ae264e3637204a...|\n",
            "|offer received|e5c59811346840e2a...|   0|[, 4d5c57ea9a6940...|\n",
            "|offer received|e633a9090fc746a38...|   0|[, fafdcd668e3743...|\n",
            "|offer received|b519d8d3bc1c429b8...|   0|[, fafdcd668e3743...|\n",
            "|offer received|6f6d0c5ddfdb431d9...|   0|[, 2906b810c7d441...|\n",
            "|offer received|30ab0845fe8c4da38...|   0|[, fafdcd668e3743...|\n",
            "|offer received|dd2676580c2f4926b...|   0|[, 9b98b8c7a33c4b...|\n",
            "|offer received|7d76c5a597f7490e8...|   0|[, 3f207df678b143...|\n",
            "|offer received|d98603fa5f1a4d21a...|   0|[, 2906b810c7d441...|\n",
            "+--------------+--------------------+----+--------------------+\n",
            "only showing top 20 rows\n",
            "\n"
          ],
          "name": "stdout"
        }
      ]
    },
    {
      "cell_type": "code",
      "metadata": {
        "colab": {
          "base_uri": "https://localhost:8080/"
        },
        "id": "QIdOgzSloYz8",
        "outputId": "a19433a0-d54d-4a17-c10f-739bdd9ce258"
      },
      "source": [
        "# Checking again null values are present or not for all the common columns\n",
        "transcript.select(\"event\").filter(\"event is null\").show(1)\n",
        "transcript.select(\"person\").filter(\"person is null\").show(1)\n",
        "transcript.select(\"time\").filter(\"time is null\").show(1)"
      ],
      "execution_count": 317,
      "outputs": [
        {
          "output_type": "stream",
          "text": [
            "+-----+\n",
            "|event|\n",
            "+-----+\n",
            "+-----+\n",
            "\n",
            "+------+\n",
            "|person|\n",
            "+------+\n",
            "+------+\n",
            "\n",
            "+----+\n",
            "|time|\n",
            "+----+\n",
            "+----+\n",
            "\n"
          ],
          "name": "stdout"
        }
      ]
    },
    {
      "cell_type": "code",
      "metadata": {
        "colab": {
          "base_uri": "https://localhost:8080/"
        },
        "id": "pbFzjCjRoYz8",
        "outputId": "98ad48d3-c4ea-4799-9d2d-d22d4e8b6d01"
      },
      "source": [
        "print('Unique event types:')\n",
        "transcript.select('event').distinct().show()"
      ],
      "execution_count": 318,
      "outputs": [
        {
          "output_type": "stream",
          "text": [
            "Unique event types:\n",
            "+---------------+\n",
            "|          event|\n",
            "+---------------+\n",
            "|    transaction|\n",
            "| offer received|\n",
            "|offer completed|\n",
            "|   offer viewed|\n",
            "+---------------+\n",
            "\n"
          ],
          "name": "stdout"
        }
      ]
    },
    {
      "cell_type": "markdown",
      "metadata": {
        "id": "-SIbGCPfoYz8"
      },
      "source": [
        "### Splitting transactions and offers dataframes"
      ]
    },
    {
      "cell_type": "code",
      "metadata": {
        "colab": {
          "base_uri": "https://localhost:8080/"
        },
        "id": "2XpLvkLXoYz9",
        "outputId": "d4d03e58-0e93-43e2-ce6a-8a0922e81adf"
      },
      "source": [
        "# making transactions dataframe\n",
        "transactions = transcript.filter(\"event == 'transaction' \")\n",
        "transactions = transactions.withColumn(\"trans_amount\",coalesce(\"value.amount\"))\n",
        "transactions = transactions.drop('value')\n",
        "transactions.show()\n",
        "\n",
        "# making offers dataframe\n",
        "offers = transcript.filter(\"event != 'transaction' \")\n",
        "offers = offers.withColumn(\"offer_id\",coalesce(\"value.offer_id\", \"value.offer id\"))\n",
        "offers = offers.drop('value')\n",
        "offers.show()\n"
      ],
      "execution_count": 319,
      "outputs": [
        {
          "output_type": "stream",
          "text": [
            "+-----------+--------------------+----+------------+\n",
            "|      event|              person|time|trans_amount|\n",
            "+-----------+--------------------+----+------------+\n",
            "|transaction|7a1eda9ab57049068...|   0|        6.13|\n",
            "|transaction|2fb4578848f34ce4b...|   0|        21.4|\n",
            "|transaction|6851449a9192478d8...|   0|         2.3|\n",
            "|transaction|d5e320154bed47159...|   0|        7.83|\n",
            "|transaction|461e13a14a074077b...|   6|        7.94|\n",
            "|transaction|6e0b0d6db74942b49...|   6|        8.12|\n",
            "|transaction|8d59a5826cc547f58...|   6|       23.77|\n",
            "|transaction|ae56c4d76ac84a639...|   6|       27.23|\n",
            "|transaction|1575f73eb0274ab6b...|   6|        0.13|\n",
            "|transaction|ea6cfa381e2c492e9...|   6|       13.84|\n",
            "|transaction|26829118683847c8a...|  12|        7.41|\n",
            "|transaction|9ca7ccb9ef3e44b4a...|  12|        3.13|\n",
            "|transaction|3dbbfc8fc19d40df9...|  12|       10.98|\n",
            "|transaction|3b3f484e876f475ea...|  12|        15.1|\n",
            "|transaction|63b1186a539940508...|  12|        2.93|\n",
            "|transaction|f422c808ac4d47d1a...|  12|         7.7|\n",
            "|transaction|7a59e21bd1c04f688...|  18|       16.21|\n",
            "|transaction|1719f6842add4adb9...|  18|        4.17|\n",
            "|transaction|cd69545de4d64f128...|  18|        1.64|\n",
            "|transaction|3a8d37c666d648a0b...|  24|        1.21|\n",
            "+-----------+--------------------+----+------------+\n",
            "only showing top 20 rows\n",
            "\n",
            "+--------------+--------------------+----+--------------------+\n",
            "|         event|              person|time|            offer_id|\n",
            "+--------------+--------------------+----+--------------------+\n",
            "|offer received|bf2c086d4c4049289...|   0|9b98b8c7a33c4b65b...|\n",
            "|offer received|27aa749a6f5f448e9...|   0|5a8bc65990b245e5a...|\n",
            "|offer received|b94c7601b17b41609...|   0|ae264e3637204a6fb...|\n",
            "|offer received|696493b9f616411a8...|   0|fafdcd668e3743c1b...|\n",
            "|offer received|56163abfe5a848deb...|   0|f19421c1d4aa40978...|\n",
            "|offer received|abf29a94ba3d46488...|   0|5a8bc65990b245e5a...|\n",
            "|offer received|23264960b6724afea...|   0|2298d6c36e964ae4a...|\n",
            "|offer received|7fc12dee8c9144f3b...|   0|fafdcd668e3743c1b...|\n",
            "|offer received|cf8dc5cf3dc84f648...|   0|5a8bc65990b245e5a...|\n",
            "|offer received|269424f345f6478e8...|   0|2906b810c7d441179...|\n",
            "|offer received|fcbf38029321416f9...|   0|fafdcd668e3743c1b...|\n",
            "|offer received|2f21db46b5f84be5b...|   0|ae264e3637204a6fb...|\n",
            "|offer received|e5c59811346840e2a...|   0|4d5c57ea9a6940dd8...|\n",
            "|offer received|e633a9090fc746a38...|   0|fafdcd668e3743c1b...|\n",
            "|offer received|b519d8d3bc1c429b8...|   0|fafdcd668e3743c1b...|\n",
            "|offer received|6f6d0c5ddfdb431d9...|   0|2906b810c7d441179...|\n",
            "|offer received|30ab0845fe8c4da38...|   0|fafdcd668e3743c1b...|\n",
            "|offer received|dd2676580c2f4926b...|   0|9b98b8c7a33c4b65b...|\n",
            "|offer received|7d76c5a597f7490e8...|   0|3f207df678b143eea...|\n",
            "|offer received|d98603fa5f1a4d21a...|   0|2906b810c7d441179...|\n",
            "+--------------+--------------------+----+--------------------+\n",
            "only showing top 20 rows\n",
            "\n"
          ],
          "name": "stdout"
        }
      ]
    },
    {
      "cell_type": "code",
      "metadata": {
        "colab": {
          "base_uri": "https://localhost:8080/"
        },
        "id": "5XuoGyWYoYz9",
        "outputId": "f5036a6f-2bf9-47e3-b124-9590c2d3bd7a"
      },
      "source": [
        "# checking null values are present or not for transactions and offers dataframe\n",
        "transactions.select(\"trans_amount\").filter(\"trans_amount is null\").show(1)\n",
        "offers.select(\"offer_id\").filter(\"offer_id is null\").show(1)"
      ],
      "execution_count": 320,
      "outputs": [
        {
          "output_type": "stream",
          "text": [
            "+------------+\n",
            "|trans_amount|\n",
            "+------------+\n",
            "+------------+\n",
            "\n",
            "+--------+\n",
            "|offer_id|\n",
            "+--------+\n",
            "+--------+\n",
            "\n"
          ],
          "name": "stdout"
        }
      ]
    },
    {
      "cell_type": "code",
      "metadata": {
        "colab": {
          "base_uri": "https://localhost:8080/"
        },
        "id": "Q2PTad_ioYz9",
        "outputId": "cfd017a1-af3b-4bbf-abae-0077107b1505"
      },
      "source": [
        "# working on null values for transactions and offers dataframe\n",
        "\n",
        "# transactions dataframe :\n",
        "##  filling trans_amount column's null values with the mean or average value of trans_amount column\n",
        "mean_vals = transactions.select(mean(transactions.trans_amount)).collect()\n",
        "mean_vals\n",
        "mean_trans = mean_vals[0][0]\n",
        "#now using mean_trans value to fill the nulls in trans_amount column\n",
        "transactions = transactions.na.fill(mean_trans,subset=['trans_amount'])\n",
        "transactions.show()\n",
        "\n",
        "\n",
        "# offers dataframe\n",
        "## removing rows where null is present in offer_id column (primary key)\n",
        "offers = offers.filter(\"offer_id is not null\")\n",
        "offers.show()\n"
      ],
      "execution_count": 321,
      "outputs": [
        {
          "output_type": "stream",
          "text": [
            "+-----------+--------------------+----+------------+\n",
            "|      event|              person|time|trans_amount|\n",
            "+-----------+--------------------+----+------------+\n",
            "|transaction|7a1eda9ab57049068...|   0|        6.13|\n",
            "|transaction|2fb4578848f34ce4b...|   0|        21.4|\n",
            "|transaction|6851449a9192478d8...|   0|         2.3|\n",
            "|transaction|d5e320154bed47159...|   0|        7.83|\n",
            "|transaction|461e13a14a074077b...|   6|        7.94|\n",
            "|transaction|6e0b0d6db74942b49...|   6|        8.12|\n",
            "|transaction|8d59a5826cc547f58...|   6|       23.77|\n",
            "|transaction|ae56c4d76ac84a639...|   6|       27.23|\n",
            "|transaction|1575f73eb0274ab6b...|   6|        0.13|\n",
            "|transaction|ea6cfa381e2c492e9...|   6|       13.84|\n",
            "|transaction|26829118683847c8a...|  12|        7.41|\n",
            "|transaction|9ca7ccb9ef3e44b4a...|  12|        3.13|\n",
            "|transaction|3dbbfc8fc19d40df9...|  12|       10.98|\n",
            "|transaction|3b3f484e876f475ea...|  12|        15.1|\n",
            "|transaction|63b1186a539940508...|  12|        2.93|\n",
            "|transaction|f422c808ac4d47d1a...|  12|         7.7|\n",
            "|transaction|7a59e21bd1c04f688...|  18|       16.21|\n",
            "|transaction|1719f6842add4adb9...|  18|        4.17|\n",
            "|transaction|cd69545de4d64f128...|  18|        1.64|\n",
            "|transaction|3a8d37c666d648a0b...|  24|        1.21|\n",
            "+-----------+--------------------+----+------------+\n",
            "only showing top 20 rows\n",
            "\n",
            "+--------------+--------------------+----+--------------------+\n",
            "|         event|              person|time|            offer_id|\n",
            "+--------------+--------------------+----+--------------------+\n",
            "|offer received|bf2c086d4c4049289...|   0|9b98b8c7a33c4b65b...|\n",
            "|offer received|27aa749a6f5f448e9...|   0|5a8bc65990b245e5a...|\n",
            "|offer received|b94c7601b17b41609...|   0|ae264e3637204a6fb...|\n",
            "|offer received|696493b9f616411a8...|   0|fafdcd668e3743c1b...|\n",
            "|offer received|56163abfe5a848deb...|   0|f19421c1d4aa40978...|\n",
            "|offer received|abf29a94ba3d46488...|   0|5a8bc65990b245e5a...|\n",
            "|offer received|23264960b6724afea...|   0|2298d6c36e964ae4a...|\n",
            "|offer received|7fc12dee8c9144f3b...|   0|fafdcd668e3743c1b...|\n",
            "|offer received|cf8dc5cf3dc84f648...|   0|5a8bc65990b245e5a...|\n",
            "|offer received|269424f345f6478e8...|   0|2906b810c7d441179...|\n",
            "|offer received|fcbf38029321416f9...|   0|fafdcd668e3743c1b...|\n",
            "|offer received|2f21db46b5f84be5b...|   0|ae264e3637204a6fb...|\n",
            "|offer received|e5c59811346840e2a...|   0|4d5c57ea9a6940dd8...|\n",
            "|offer received|e633a9090fc746a38...|   0|fafdcd668e3743c1b...|\n",
            "|offer received|b519d8d3bc1c429b8...|   0|fafdcd668e3743c1b...|\n",
            "|offer received|6f6d0c5ddfdb431d9...|   0|2906b810c7d441179...|\n",
            "|offer received|30ab0845fe8c4da38...|   0|fafdcd668e3743c1b...|\n",
            "|offer received|dd2676580c2f4926b...|   0|9b98b8c7a33c4b65b...|\n",
            "|offer received|7d76c5a597f7490e8...|   0|3f207df678b143eea...|\n",
            "|offer received|d98603fa5f1a4d21a...|   0|2906b810c7d441179...|\n",
            "+--------------+--------------------+----+--------------------+\n",
            "only showing top 20 rows\n",
            "\n"
          ],
          "name": "stdout"
        }
      ]
    },
    {
      "cell_type": "code",
      "metadata": {
        "colab": {
          "base_uri": "https://localhost:8080/"
        },
        "id": "0xuLsv3joYz-",
        "outputId": "8f5a800a-3d99-4ff4-fe90-fee4b4836a6b"
      },
      "source": [
        "# checking again null values are present or not for transactions, offers and reward dataframe\n",
        "transactions.select(\"trans_amount\").filter(\"trans_amount is null\").show(1)\n",
        "offers.select(\"offer_id\").filter(\"offer_id is null\").show(1)"
      ],
      "execution_count": 322,
      "outputs": [
        {
          "output_type": "stream",
          "text": [
            "+------------+\n",
            "|trans_amount|\n",
            "+------------+\n",
            "+------------+\n",
            "\n",
            "+--------+\n",
            "|offer_id|\n",
            "+--------+\n",
            "+--------+\n",
            "\n"
          ],
          "name": "stdout"
        }
      ]
    },
    {
      "cell_type": "code",
      "metadata": {
        "id": "0oi2nh_-oYz_"
      },
      "source": [
        ""
      ],
      "execution_count": 322,
      "outputs": []
    },
    {
      "cell_type": "markdown",
      "metadata": {
        "id": "bpi5YkWHoYz_"
      },
      "source": [
        "### Portfolio"
      ]
    },
    {
      "cell_type": "code",
      "metadata": {
        "colab": {
          "base_uri": "https://localhost:8080/"
        },
        "id": "S9xcg2HtoY0A",
        "outputId": "750e16cc-9957-430a-f695-175969b2051e"
      },
      "source": [
        "portfolio.show()"
      ],
      "execution_count": 323,
      "outputs": [
        {
          "output_type": "stream",
          "text": [
            "+--------------------+----------+--------+--------------------+-------------+------+\n",
            "|            channels|difficulty|duration|                  id|   offer_type|reward|\n",
            "+--------------------+----------+--------+--------------------+-------------+------+\n",
            "|[web, email, mobi...|         7|     7.0|2298d6c36e964ae4a...|     discount|     3|\n",
            "|[web, email, mobile]|        10|     7.0|2906b810c7d441179...|     discount|     2|\n",
            "|[web, email, mobi...|        10|    10.0|fafdcd668e3743c1b...|     discount|     2|\n",
            "|[web, email, mobi...|        10|     5.0|4d5c57ea9a6940dd8...|         bogo|    10|\n",
            "|[email, mobile, s...|        10|     7.0|ae264e3637204a6fb...|         bogo|    10|\n",
            "|        [web, email]|        20|    10.0|0b1e1539f2cc45b7b...|     discount|     5|\n",
            "|[web, email, mobile]|         5|     7.0|9b98b8c7a33c4b65b...|         bogo|     5|\n",
            "|[email, mobile, s...|         0|     3.0|5a8bc65990b245e5a...|informational|     0|\n",
            "|[web, email, mobile]|         0|     4.0|3f207df678b143eea...|informational|     0|\n",
            "|[web, email, mobi...|         5|     5.0|f19421c1d4aa40978...|         bogo|     5|\n",
            "+--------------------+----------+--------+--------------------+-------------+------+\n",
            "\n"
          ],
          "name": "stdout"
        }
      ]
    },
    {
      "cell_type": "code",
      "metadata": {
        "colab": {
          "base_uri": "https://localhost:8080/"
        },
        "id": "g_mJ9wTloY0A",
        "outputId": "3199699c-0c6a-4ccb-88ed-28977645b32c"
      },
      "source": [
        "portfolio.printSchema()"
      ],
      "execution_count": 324,
      "outputs": [
        {
          "output_type": "stream",
          "text": [
            "root\n",
            " |-- channels: array (nullable = true)\n",
            " |    |-- element: string (containsNull = true)\n",
            " |-- difficulty: long (nullable = true)\n",
            " |-- duration: double (nullable = true)\n",
            " |-- id: string (nullable = true)\n",
            " |-- offer_type: string (nullable = true)\n",
            " |-- reward: long (nullable = true)\n",
            "\n"
          ],
          "name": "stdout"
        }
      ]
    },
    {
      "cell_type": "code",
      "metadata": {
        "colab": {
          "base_uri": "https://localhost:8080/"
        },
        "id": "3gD_KukXoY0B",
        "outputId": "d151cdb7-cb85-45ab-c58b-a8d697b06195"
      },
      "source": [
        "# Checking Null values are present or not for all the columns\n",
        "portfolio.select(\"channels\").filter(\"channels is null\").show()\n",
        "portfolio.select(\"difficulty\").filter(\"difficulty is null\").show()\n",
        "portfolio.select(\"duration\").filter(\"duration is null\").show()\n",
        "portfolio.select(\"id\").filter(\"id is null\").show()\n",
        "portfolio.select(\"offer_type\").filter(\"offer_type is null\").show()\n",
        "portfolio.select(\"reward\").filter(\"reward is null\").show()"
      ],
      "execution_count": 325,
      "outputs": [
        {
          "output_type": "stream",
          "text": [
            "+--------+\n",
            "|channels|\n",
            "+--------+\n",
            "+--------+\n",
            "\n",
            "+----------+\n",
            "|difficulty|\n",
            "+----------+\n",
            "+----------+\n",
            "\n",
            "+--------+\n",
            "|duration|\n",
            "+--------+\n",
            "+--------+\n",
            "\n",
            "+---+\n",
            "| id|\n",
            "+---+\n",
            "+---+\n",
            "\n",
            "+----------+\n",
            "|offer_type|\n",
            "+----------+\n",
            "+----------+\n",
            "\n",
            "+------+\n",
            "|reward|\n",
            "+------+\n",
            "+------+\n",
            "\n"
          ],
          "name": "stdout"
        }
      ]
    },
    {
      "cell_type": "code",
      "metadata": {
        "colab": {
          "base_uri": "https://localhost:8080/"
        },
        "id": "NI-i_L9QoY0C",
        "outputId": "f13bf9b1-6536-454e-f7cb-69a0de3fd17c"
      },
      "source": [
        "# working on null values\n",
        "\n",
        "# filling null values of difficulty, duration, offer_type, reward\n",
        "portfolio = portfolio.na.fill({'difficulty': 0,'duration':0.0, 'offer_type':'NA','reward':0})\n",
        "\n",
        "# removing rows where null is present in id column (primary key)\n",
        "portfolio = portfolio.filter(\"id is not null\")\n",
        "portfolio.show()\n"
      ],
      "execution_count": 326,
      "outputs": [
        {
          "output_type": "stream",
          "text": [
            "+--------------------+----------+--------+--------------------+-------------+------+\n",
            "|            channels|difficulty|duration|                  id|   offer_type|reward|\n",
            "+--------------------+----------+--------+--------------------+-------------+------+\n",
            "|[web, email, mobi...|         7|     7.0|2298d6c36e964ae4a...|     discount|     3|\n",
            "|[web, email, mobile]|        10|     7.0|2906b810c7d441179...|     discount|     2|\n",
            "|[web, email, mobi...|        10|    10.0|fafdcd668e3743c1b...|     discount|     2|\n",
            "|[web, email, mobi...|        10|     5.0|4d5c57ea9a6940dd8...|         bogo|    10|\n",
            "|[email, mobile, s...|        10|     7.0|ae264e3637204a6fb...|         bogo|    10|\n",
            "|        [web, email]|        20|    10.0|0b1e1539f2cc45b7b...|     discount|     5|\n",
            "|[web, email, mobile]|         5|     7.0|9b98b8c7a33c4b65b...|         bogo|     5|\n",
            "|[email, mobile, s...|         0|     3.0|5a8bc65990b245e5a...|informational|     0|\n",
            "|[web, email, mobile]|         0|     4.0|3f207df678b143eea...|informational|     0|\n",
            "|[web, email, mobi...|         5|     5.0|f19421c1d4aa40978...|         bogo|     5|\n",
            "+--------------------+----------+--------+--------------------+-------------+------+\n",
            "\n"
          ],
          "name": "stdout"
        }
      ]
    },
    {
      "cell_type": "code",
      "metadata": {
        "colab": {
          "base_uri": "https://localhost:8080/"
        },
        "id": "4BbsQahVoY0C",
        "outputId": "3cb473c2-07de-49be-c0ca-43044ece98e7"
      },
      "source": [
        "# Checking Again Null values are present or not for all the columns\n",
        "portfolio.select(\"channels\").filter(\"channels is null\").show()\n",
        "portfolio.select(\"difficulty\").filter(\"difficulty is null\").show()\n",
        "portfolio.select(\"duration\").filter(\"duration is null\").show()\n",
        "portfolio.select(\"id\").filter(\"id is null\").show()\n",
        "portfolio.select(\"offer_type\").filter(\"offer_type is null\").show()\n",
        "portfolio.select(\"reward\").filter(\"reward is null\").show()"
      ],
      "execution_count": 327,
      "outputs": [
        {
          "output_type": "stream",
          "text": [
            "+--------+\n",
            "|channels|\n",
            "+--------+\n",
            "+--------+\n",
            "\n",
            "+----------+\n",
            "|difficulty|\n",
            "+----------+\n",
            "+----------+\n",
            "\n",
            "+--------+\n",
            "|duration|\n",
            "+--------+\n",
            "+--------+\n",
            "\n",
            "+---+\n",
            "| id|\n",
            "+---+\n",
            "+---+\n",
            "\n",
            "+----------+\n",
            "|offer_type|\n",
            "+----------+\n",
            "+----------+\n",
            "\n",
            "+------+\n",
            "|reward|\n",
            "+------+\n",
            "+------+\n",
            "\n"
          ],
          "name": "stdout"
        }
      ]
    },
    {
      "cell_type": "markdown",
      "metadata": {
        "id": "Olqga9B2oY0D"
      },
      "source": [
        "# Merging Dataframes"
      ]
    },
    {
      "cell_type": "code",
      "metadata": {
        "colab": {
          "base_uri": "https://localhost:8080/"
        },
        "id": "FUr0OjILoY0D",
        "outputId": "9b8e4b38-09bb-458b-f83a-fa2bc86b51e3"
      },
      "source": [
        "profile.show(2)"
      ],
      "execution_count": 328,
      "outputs": [
        {
          "output_type": "stream",
          "text": [
            "+---+----------------+------+--------------------+------+\n",
            "|age|became_member_on|gender|                  id|income|\n",
            "+---+----------------+------+--------------------+------+\n",
            "| 58|      2016-12-31|     F|73c157a4b8e342fcb...| 95000|\n",
            "| 57|      2018-04-29|     M|717a423a31284ce1b...| 41000|\n",
            "+---+----------------+------+--------------------+------+\n",
            "only showing top 2 rows\n",
            "\n"
          ],
          "name": "stdout"
        }
      ]
    },
    {
      "cell_type": "code",
      "metadata": {
        "colab": {
          "base_uri": "https://localhost:8080/"
        },
        "id": "6UxQlL6YoY0E",
        "outputId": "8df420cb-378e-41b4-9220-60f5054c5dd9"
      },
      "source": [
        "portfolio.show(2)"
      ],
      "execution_count": 329,
      "outputs": [
        {
          "output_type": "stream",
          "text": [
            "+--------------------+----------+--------+--------------------+----------+------+\n",
            "|            channels|difficulty|duration|                  id|offer_type|reward|\n",
            "+--------------------+----------+--------+--------------------+----------+------+\n",
            "|[web, email, mobi...|         7|     7.0|2298d6c36e964ae4a...|  discount|     3|\n",
            "|[web, email, mobile]|        10|     7.0|2906b810c7d441179...|  discount|     2|\n",
            "+--------------------+----------+--------+--------------------+----------+------+\n",
            "only showing top 2 rows\n",
            "\n"
          ],
          "name": "stdout"
        }
      ]
    },
    {
      "cell_type": "markdown",
      "metadata": {
        "id": "JzZA_UgdoY0E"
      },
      "source": [
        "#### transcript"
      ]
    },
    {
      "cell_type": "code",
      "metadata": {
        "colab": {
          "base_uri": "https://localhost:8080/"
        },
        "id": "Pi5xWiZ2oY0E",
        "outputId": "63d266c1-8ba5-4b88-f753-d254bb663fc6"
      },
      "source": [
        "transactions.show(2)"
      ],
      "execution_count": 330,
      "outputs": [
        {
          "output_type": "stream",
          "text": [
            "+-----------+--------------------+----+------------+\n",
            "|      event|              person|time|trans_amount|\n",
            "+-----------+--------------------+----+------------+\n",
            "|transaction|7a1eda9ab57049068...|   0|        6.13|\n",
            "|transaction|2fb4578848f34ce4b...|   0|        21.4|\n",
            "+-----------+--------------------+----+------------+\n",
            "only showing top 2 rows\n",
            "\n"
          ],
          "name": "stdout"
        }
      ]
    },
    {
      "cell_type": "code",
      "metadata": {
        "colab": {
          "base_uri": "https://localhost:8080/"
        },
        "id": "3y1b1HdHoY0F",
        "outputId": "099f081a-5627-49b0-ae8d-1f29878a2e83"
      },
      "source": [
        "offers.show(2)"
      ],
      "execution_count": 331,
      "outputs": [
        {
          "output_type": "stream",
          "text": [
            "+--------------+--------------------+----+--------------------+\n",
            "|         event|              person|time|            offer_id|\n",
            "+--------------+--------------------+----+--------------------+\n",
            "|offer received|bf2c086d4c4049289...|   0|9b98b8c7a33c4b65b...|\n",
            "|offer received|27aa749a6f5f448e9...|   0|5a8bc65990b245e5a...|\n",
            "+--------------+--------------------+----+--------------------+\n",
            "only showing top 2 rows\n",
            "\n"
          ],
          "name": "stdout"
        }
      ]
    },
    {
      "cell_type": "code",
      "metadata": {
        "colab": {
          "base_uri": "https://localhost:8080/"
        },
        "id": "54Ks-_6ZoY0F",
        "outputId": "dfce5881-a6e7-441e-b3ea-25caf506b35d"
      },
      "source": [
        "# joining profile, portfolio and offers for all the offers\n",
        "\n",
        "df1 = profile.join(offers, profile.id == offers.person, 'inner').drop(profile.id)\n",
        "df1.show(2)\n",
        "\n",
        "allOffers = df1.join(portfolio, df1.offer_id == portfolio.id, 'inner').drop(portfolio.id)\n",
        "allOffers.show(2)"
      ],
      "execution_count": 332,
      "outputs": [
        {
          "output_type": "stream",
          "text": [
            "+---+----------------+------+------+--------------+--------------------+----+--------------------+\n",
            "|age|became_member_on|gender|income|         event|              person|time|            offer_id|\n",
            "+---+----------------+------+------+--------------+--------------------+----+--------------------+\n",
            "| 32|      2015-10-08|     M| 38000|offer received|27aa749a6f5f448e9...|   0|5a8bc65990b245e5a...|\n",
            "| 62|      2016-05-02|     F| 98000|offer received|abf29a94ba3d46488...|   0|5a8bc65990b245e5a...|\n",
            "+---+----------------+------+------+--------------+--------------------+----+--------------------+\n",
            "only showing top 2 rows\n",
            "\n",
            "+---+----------------+------+------+--------------+--------------------+----+--------------------+--------------------+----------+--------+-------------+------+\n",
            "|age|became_member_on|gender|income|         event|              person|time|            offer_id|            channels|difficulty|duration|   offer_type|reward|\n",
            "+---+----------------+------+------+--------------+--------------------+----+--------------------+--------------------+----------+--------+-------------+------+\n",
            "| 32|      2015-10-08|     M| 38000|offer received|27aa749a6f5f448e9...|   0|5a8bc65990b245e5a...|[email, mobile, s...|         0|     3.0|informational|     0|\n",
            "| 62|      2016-05-02|     F| 98000|offer received|abf29a94ba3d46488...|   0|5a8bc65990b245e5a...|[email, mobile, s...|         0|     3.0|informational|     0|\n",
            "+---+----------------+------+------+--------------+--------------------+----+--------------------+--------------------+----------+--------+-------------+------+\n",
            "only showing top 2 rows\n",
            "\n"
          ],
          "name": "stdout"
        }
      ]
    },
    {
      "cell_type": "code",
      "metadata": {
        "colab": {
          "base_uri": "https://localhost:8080/"
        },
        "id": "nMVD2t1EoY0G",
        "outputId": "b009ad1d-77b5-469d-f057-cce4b7a43005"
      },
      "source": [
        "# joining profile and transactions for all the transactions\n",
        "\n",
        "allTransactions = profile.join(transactions, profile.id == transactions.person, 'inner').drop(profile.id)\n",
        "allTransactions.show(2)"
      ],
      "execution_count": 333,
      "outputs": [
        {
          "output_type": "stream",
          "text": [
            "+---+----------------+------+------+-----------+--------------------+----+------------+\n",
            "|age|became_member_on|gender|income|      event|              person|time|trans_amount|\n",
            "+---+----------------+------+------+-----------+--------------------+----+------------+\n",
            "| 51|      2015-12-16|     M| 81000|transaction|2fb4578848f34ce4b...|   0|        21.4|\n",
            "| 40|      2017-11-14|     M| 39000|transaction|6851449a9192478d8...|   0|         2.3|\n",
            "+---+----------------+------+------+-----------+--------------------+----+------------+\n",
            "only showing top 2 rows\n",
            "\n"
          ],
          "name": "stdout"
        }
      ]
    },
    {
      "cell_type": "code",
      "metadata": {
        "colab": {
          "base_uri": "https://localhost:8080/"
        },
        "id": "avbkMtm7oY0H",
        "outputId": "0de5fb03-cb0d-4ba0-bd4a-6a5e2b0f235a"
      },
      "source": [
        "allOffers.show(2)\n",
        "allOffers.printSchema()"
      ],
      "execution_count": 334,
      "outputs": [
        {
          "output_type": "stream",
          "text": [
            "+---+----------------+------+------+--------------+--------------------+----+--------------------+--------------------+----------+--------+-------------+------+\n",
            "|age|became_member_on|gender|income|         event|              person|time|            offer_id|            channels|difficulty|duration|   offer_type|reward|\n",
            "+---+----------------+------+------+--------------+--------------------+----+--------------------+--------------------+----------+--------+-------------+------+\n",
            "| 32|      2015-10-08|     M| 38000|offer received|27aa749a6f5f448e9...|   0|5a8bc65990b245e5a...|[email, mobile, s...|         0|     3.0|informational|     0|\n",
            "| 62|      2016-05-02|     F| 98000|offer received|abf29a94ba3d46488...|   0|5a8bc65990b245e5a...|[email, mobile, s...|         0|     3.0|informational|     0|\n",
            "+---+----------------+------+------+--------------+--------------------+----+--------------------+--------------------+----------+--------+-------------+------+\n",
            "only showing top 2 rows\n",
            "\n",
            "root\n",
            " |-- age: long (nullable = true)\n",
            " |-- became_member_on: date (nullable = true)\n",
            " |-- gender: string (nullable = false)\n",
            " |-- income: long (nullable = true)\n",
            " |-- event: string (nullable = false)\n",
            " |-- person: string (nullable = true)\n",
            " |-- time: long (nullable = false)\n",
            " |-- offer_id: string (nullable = true)\n",
            " |-- channels: array (nullable = true)\n",
            " |    |-- element: string (containsNull = true)\n",
            " |-- difficulty: long (nullable = false)\n",
            " |-- duration: double (nullable = false)\n",
            " |-- offer_type: string (nullable = false)\n",
            " |-- reward: long (nullable = false)\n",
            "\n"
          ],
          "name": "stdout"
        }
      ]
    },
    {
      "cell_type": "code",
      "metadata": {
        "colab": {
          "base_uri": "https://localhost:8080/"
        },
        "id": "VP3Q05EioY0H",
        "outputId": "c84798fe-ba26-41ad-c148-a08f04674ff0"
      },
      "source": [
        "allTransactions.show(2)\n",
        "allTransactions.printSchema()"
      ],
      "execution_count": 335,
      "outputs": [
        {
          "output_type": "stream",
          "text": [
            "+---+----------------+------+------+-----------+--------------------+----+------------+\n",
            "|age|became_member_on|gender|income|      event|              person|time|trans_amount|\n",
            "+---+----------------+------+------+-----------+--------------------+----+------------+\n",
            "| 51|      2015-12-16|     M| 81000|transaction|2fb4578848f34ce4b...|   0|        21.4|\n",
            "| 40|      2017-11-14|     M| 39000|transaction|6851449a9192478d8...|   0|         2.3|\n",
            "+---+----------------+------+------+-----------+--------------------+----+------------+\n",
            "only showing top 2 rows\n",
            "\n",
            "root\n",
            " |-- age: long (nullable = true)\n",
            " |-- became_member_on: date (nullable = true)\n",
            " |-- gender: string (nullable = false)\n",
            " |-- income: long (nullable = true)\n",
            " |-- event: string (nullable = false)\n",
            " |-- person: string (nullable = true)\n",
            " |-- time: long (nullable = false)\n",
            " |-- trans_amount: double (nullable = false)\n",
            "\n"
          ],
          "name": "stdout"
        }
      ]
    },
    {
      "cell_type": "markdown",
      "metadata": {
        "id": "fJebX_WboY0I"
      },
      "source": [
        "# Dataframes based on problem statement"
      ]
    },
    {
      "cell_type": "code",
      "metadata": {
        "colab": {
          "base_uri": "https://localhost:8080/"
        },
        "id": "9-ire_paoY0J",
        "outputId": "f0e458fd-00fc-4c59-cce8-9936eaa20f93"
      },
      "source": [
        "# 1st problem statement dataframe\n",
        "# based on gender, age, income analysis of offer_type\n",
        "\n",
        "df1 = allOffers.select(\"age\",\"gender\",\"income\",\"offer_type\")\n",
        "df1.show(5)"
      ],
      "execution_count": 336,
      "outputs": [
        {
          "output_type": "stream",
          "text": [
            "+---+------+------+-------------+\n",
            "|age|gender|income|   offer_type|\n",
            "+---+------+------+-------------+\n",
            "| 32|     M| 38000|informational|\n",
            "| 62|     F| 98000|informational|\n",
            "| 67|     M| 97000|     discount|\n",
            "| 24|     M| 38000|     discount|\n",
            "| 51|     F| 90000|informational|\n",
            "+---+------+------+-------------+\n",
            "only showing top 5 rows\n",
            "\n"
          ],
          "name": "stdout"
        }
      ]
    },
    {
      "cell_type": "code",
      "metadata": {
        "colab": {
          "base_uri": "https://localhost:8080/"
        },
        "id": "3GVpIFw7oY0J",
        "outputId": "36f078ab-6713-4046-fec9-209d7c8abd85"
      },
      "source": [
        "# 2nd problem statement dataframe\n",
        "# based on offer utilized per channel\n",
        "\n",
        "df2 = allOffers.filter(\"event == 'offer completed' \").select(\"channels\",\"offer_type\")\n",
        "df2.show(5)"
      ],
      "execution_count": 337,
      "outputs": [
        {
          "output_type": "stream",
          "text": [
            "+--------------------+----------+\n",
            "|            channels|offer_type|\n",
            "+--------------------+----------+\n",
            "|[web, email, mobi...|      bogo|\n",
            "|[web, email, mobi...|      bogo|\n",
            "|[web, email, mobi...|  discount|\n",
            "|[email, mobile, s...|      bogo|\n",
            "|[web, email, mobi...|  discount|\n",
            "+--------------------+----------+\n",
            "only showing top 5 rows\n",
            "\n"
          ],
          "name": "stdout"
        }
      ]
    },
    {
      "cell_type": "code",
      "metadata": {
        "colab": {
          "base_uri": "https://localhost:8080/"
        },
        "id": "tmlqhow5oY0K",
        "outputId": "c1366779-fdc1-46a9-90ca-06f5112e0586"
      },
      "source": [
        "# 3rd problem statement dataframe\n",
        "# based on trend w.r.t event Vs customer and offers\n",
        "\n",
        "df3 = allOffers.select(\"event\",\"age\",\"gender\",\"income\",\"offer_type\")\n",
        "df3.show(5)"
      ],
      "execution_count": 338,
      "outputs": [
        {
          "output_type": "stream",
          "text": [
            "+--------------+---+------+------+-------------+\n",
            "|         event|age|gender|income|   offer_type|\n",
            "+--------------+---+------+------+-------------+\n",
            "|offer received| 32|     M| 38000|informational|\n",
            "|offer received| 62|     F| 98000|informational|\n",
            "|offer received| 67|     M| 97000|     discount|\n",
            "|offer received| 24|     M| 38000|     discount|\n",
            "|offer received| 51|     F| 90000|informational|\n",
            "+--------------+---+------+------+-------------+\n",
            "only showing top 5 rows\n",
            "\n"
          ],
          "name": "stdout"
        }
      ]
    },
    {
      "cell_type": "code",
      "metadata": {
        "colab": {
          "base_uri": "https://localhost:8080/",
          "height": 204
        },
        "id": "zmGlY96s1V12",
        "outputId": "89319d91-fad2-42a4-c890-893247890da7"
      },
      "source": [
        "profile = profile.toPandas()\r\n",
        "\r\n",
        "# gender type dummies\r\n",
        "gender_dummies = pd.get_dummies(profile['gender']).add_prefix('gender_')\r\n",
        "\r\n",
        "profile = pd.concat([profile, gender_dummies], axis=1)\r\n",
        "\r\n",
        "profile.head()"
      ],
      "execution_count": 339,
      "outputs": [
        {
          "output_type": "execute_result",
          "data": {
            "text/html": [
              "<div>\n",
              "<style scoped>\n",
              "    .dataframe tbody tr th:only-of-type {\n",
              "        vertical-align: middle;\n",
              "    }\n",
              "\n",
              "    .dataframe tbody tr th {\n",
              "        vertical-align: top;\n",
              "    }\n",
              "\n",
              "    .dataframe thead th {\n",
              "        text-align: right;\n",
              "    }\n",
              "</style>\n",
              "<table border=\"1\" class=\"dataframe\">\n",
              "  <thead>\n",
              "    <tr style=\"text-align: right;\">\n",
              "      <th></th>\n",
              "      <th>age</th>\n",
              "      <th>became_member_on</th>\n",
              "      <th>gender</th>\n",
              "      <th>id</th>\n",
              "      <th>income</th>\n",
              "      <th>gender_F</th>\n",
              "      <th>gender_M</th>\n",
              "      <th>gender_O</th>\n",
              "    </tr>\n",
              "  </thead>\n",
              "  <tbody>\n",
              "    <tr>\n",
              "      <th>0</th>\n",
              "      <td>58</td>\n",
              "      <td>2016-12-31</td>\n",
              "      <td>F</td>\n",
              "      <td>73c157a4b8e342fcb5d8479d8cb41e81</td>\n",
              "      <td>95000</td>\n",
              "      <td>1</td>\n",
              "      <td>0</td>\n",
              "      <td>0</td>\n",
              "    </tr>\n",
              "    <tr>\n",
              "      <th>1</th>\n",
              "      <td>57</td>\n",
              "      <td>2018-04-29</td>\n",
              "      <td>M</td>\n",
              "      <td>717a423a31284ce1b767cad1c471d968</td>\n",
              "      <td>41000</td>\n",
              "      <td>0</td>\n",
              "      <td>1</td>\n",
              "      <td>0</td>\n",
              "    </tr>\n",
              "    <tr>\n",
              "      <th>2</th>\n",
              "      <td>23</td>\n",
              "      <td>2014-07-19</td>\n",
              "      <td>M</td>\n",
              "      <td>0c0af42e1e804ded94eb5d73dfffbb6f</td>\n",
              "      <td>65000</td>\n",
              "      <td>0</td>\n",
              "      <td>1</td>\n",
              "      <td>0</td>\n",
              "    </tr>\n",
              "    <tr>\n",
              "      <th>3</th>\n",
              "      <td>51</td>\n",
              "      <td>2017-05-01</td>\n",
              "      <td>F</td>\n",
              "      <td>b87a63894b164eae86b2c2e421f966ea</td>\n",
              "      <td>91000</td>\n",
              "      <td>1</td>\n",
              "      <td>0</td>\n",
              "      <td>0</td>\n",
              "    </tr>\n",
              "    <tr>\n",
              "      <th>4</th>\n",
              "      <td>55</td>\n",
              "      <td>2016-06-11</td>\n",
              "      <td>F</td>\n",
              "      <td>992aed77ecda4f5180d5da87adaff710</td>\n",
              "      <td>58000</td>\n",
              "      <td>1</td>\n",
              "      <td>0</td>\n",
              "      <td>0</td>\n",
              "    </tr>\n",
              "  </tbody>\n",
              "</table>\n",
              "</div>"
            ],
            "text/plain": [
              "   age became_member_on gender  ... gender_F  gender_M  gender_O\n",
              "0   58       2016-12-31      F  ...        1         0         0\n",
              "1   57       2018-04-29      M  ...        0         1         0\n",
              "2   23       2014-07-19      M  ...        0         1         0\n",
              "3   51       2017-05-01      F  ...        1         0         0\n",
              "4   55       2016-06-11      F  ...        1         0         0\n",
              "\n",
              "[5 rows x 8 columns]"
            ]
          },
          "metadata": {
            "tags": []
          },
          "execution_count": 339
        }
      ]
    },
    {
      "cell_type": "markdown",
      "metadata": {
        "id": "-0XNIcERVOWt"
      },
      "source": [
        "## Problem 1"
      ]
    },
    {
      "cell_type": "markdown",
      "metadata": {
        "id": "vn4P_diGmN77"
      },
      "source": [
        "## Import Required Library"
      ]
    },
    {
      "cell_type": "code",
      "metadata": {
        "id": "D5kOssyuoY0L"
      },
      "source": [
        "# Decision Tree classification Algo\r\n",
        "import pandas as pd\r\n",
        "from sklearn.tree import DecisionTreeClassifier # Import Decision Tree Classifier\r\n",
        "from sklearn.model_selection import train_test_split # Import train_test_split function\r\n",
        "from sklearn import metrics         #Import scikit-learn metrics module for accuracy calculation\r\n",
        "import numpy as np \r\n"
      ],
      "execution_count": 340,
      "outputs": []
    },
    {
      "cell_type": "markdown",
      "metadata": {
        "id": "DJquBWLsrY1E"
      },
      "source": [
        "#                        Loading Data"
      ]
    },
    {
      "cell_type": "code",
      "metadata": {
        "colab": {
          "base_uri": "https://localhost:8080/",
          "height": 419
        },
        "id": "PQxq64zloY0M",
        "outputId": "a88931bf-c4d0-4271-9b98-2b4189fd15ec"
      },
      "source": [
        "\r\n",
        "col_names = [\"age\",\"gender\",\"income\",\"offer_type\"]\r\n",
        "col_names\r\n",
        "\r\n",
        "df = df1.toPandas()  #spark dataframe  into panda\r\n",
        "df\r\n",
        "\r\n",
        "\r\n",
        "\r\n",
        "\r\n",
        "\r\n"
      ],
      "execution_count": 341,
      "outputs": [
        {
          "output_type": "execute_result",
          "data": {
            "text/html": [
              "<div>\n",
              "<style scoped>\n",
              "    .dataframe tbody tr th:only-of-type {\n",
              "        vertical-align: middle;\n",
              "    }\n",
              "\n",
              "    .dataframe tbody tr th {\n",
              "        vertical-align: top;\n",
              "    }\n",
              "\n",
              "    .dataframe thead th {\n",
              "        text-align: right;\n",
              "    }\n",
              "</style>\n",
              "<table border=\"1\" class=\"dataframe\">\n",
              "  <thead>\n",
              "    <tr style=\"text-align: right;\">\n",
              "      <th></th>\n",
              "      <th>age</th>\n",
              "      <th>gender</th>\n",
              "      <th>income</th>\n",
              "      <th>offer_type</th>\n",
              "    </tr>\n",
              "  </thead>\n",
              "  <tbody>\n",
              "    <tr>\n",
              "      <th>0</th>\n",
              "      <td>32</td>\n",
              "      <td>M</td>\n",
              "      <td>38000</td>\n",
              "      <td>informational</td>\n",
              "    </tr>\n",
              "    <tr>\n",
              "      <th>1</th>\n",
              "      <td>62</td>\n",
              "      <td>F</td>\n",
              "      <td>98000</td>\n",
              "      <td>informational</td>\n",
              "    </tr>\n",
              "    <tr>\n",
              "      <th>2</th>\n",
              "      <td>67</td>\n",
              "      <td>M</td>\n",
              "      <td>97000</td>\n",
              "      <td>discount</td>\n",
              "    </tr>\n",
              "    <tr>\n",
              "      <th>3</th>\n",
              "      <td>24</td>\n",
              "      <td>M</td>\n",
              "      <td>38000</td>\n",
              "      <td>discount</td>\n",
              "    </tr>\n",
              "    <tr>\n",
              "      <th>4</th>\n",
              "      <td>51</td>\n",
              "      <td>F</td>\n",
              "      <td>90000</td>\n",
              "      <td>informational</td>\n",
              "    </tr>\n",
              "    <tr>\n",
              "      <th>...</th>\n",
              "      <td>...</td>\n",
              "      <td>...</td>\n",
              "      <td>...</td>\n",
              "      <td>...</td>\n",
              "    </tr>\n",
              "    <tr>\n",
              "      <th>131660</th>\n",
              "      <td>28</td>\n",
              "      <td>M</td>\n",
              "      <td>68000</td>\n",
              "      <td>discount</td>\n",
              "    </tr>\n",
              "    <tr>\n",
              "      <th>131661</th>\n",
              "      <td>56</td>\n",
              "      <td>M</td>\n",
              "      <td>65000</td>\n",
              "      <td>discount</td>\n",
              "    </tr>\n",
              "    <tr>\n",
              "      <th>131662</th>\n",
              "      <td>68</td>\n",
              "      <td>F</td>\n",
              "      <td>50000</td>\n",
              "      <td>discount</td>\n",
              "    </tr>\n",
              "    <tr>\n",
              "      <th>131663</th>\n",
              "      <td>58</td>\n",
              "      <td>F</td>\n",
              "      <td>68000</td>\n",
              "      <td>bogo</td>\n",
              "    </tr>\n",
              "    <tr>\n",
              "      <th>131664</th>\n",
              "      <td>59</td>\n",
              "      <td>M</td>\n",
              "      <td>108000</td>\n",
              "      <td>discount</td>\n",
              "    </tr>\n",
              "  </tbody>\n",
              "</table>\n",
              "<p>131665 rows × 4 columns</p>\n",
              "</div>"
            ],
            "text/plain": [
              "        age gender  income     offer_type\n",
              "0        32      M   38000  informational\n",
              "1        62      F   98000  informational\n",
              "2        67      M   97000       discount\n",
              "3        24      M   38000       discount\n",
              "4        51      F   90000  informational\n",
              "...     ...    ...     ...            ...\n",
              "131660   28      M   68000       discount\n",
              "131661   56      M   65000       discount\n",
              "131662   68      F   50000       discount\n",
              "131663   58      F   68000           bogo\n",
              "131664   59      M  108000       discount\n",
              "\n",
              "[131665 rows x 4 columns]"
            ]
          },
          "metadata": {
            "tags": []
          },
          "execution_count": 341
        }
      ]
    },
    {
      "cell_type": "markdown",
      "metadata": {
        "id": "9OEz4tXPfdFl"
      },
      "source": [
        "## Label Encoding "
      ]
    },
    {
      "cell_type": "code",
      "metadata": {
        "colab": {
          "base_uri": "https://localhost:8080/",
          "height": 204
        },
        "id": "flo4sBTpgD-C",
        "outputId": "174cac36-2f57-4a68-9736-539e708b7ce8"
      },
      "source": [
        "from sklearn import preprocessing\r\n",
        "# label_encoder object knows how to understand word labels. \r\n",
        "label_encoder = preprocessing.LabelEncoder()\r\n",
        "# Encode labels in column 'Country'. \r\n",
        "df['Gender']= label_encoder.fit_transform(df['gender']) \r\n",
        "df.head()\r\n",
        "df['Offer_type']= label_encoder.fit_transform(df['offer_type']) \r\n",
        "df.head()"
      ],
      "execution_count": 342,
      "outputs": [
        {
          "output_type": "execute_result",
          "data": {
            "text/html": [
              "<div>\n",
              "<style scoped>\n",
              "    .dataframe tbody tr th:only-of-type {\n",
              "        vertical-align: middle;\n",
              "    }\n",
              "\n",
              "    .dataframe tbody tr th {\n",
              "        vertical-align: top;\n",
              "    }\n",
              "\n",
              "    .dataframe thead th {\n",
              "        text-align: right;\n",
              "    }\n",
              "</style>\n",
              "<table border=\"1\" class=\"dataframe\">\n",
              "  <thead>\n",
              "    <tr style=\"text-align: right;\">\n",
              "      <th></th>\n",
              "      <th>age</th>\n",
              "      <th>gender</th>\n",
              "      <th>income</th>\n",
              "      <th>offer_type</th>\n",
              "      <th>Gender</th>\n",
              "      <th>Offer_type</th>\n",
              "    </tr>\n",
              "  </thead>\n",
              "  <tbody>\n",
              "    <tr>\n",
              "      <th>0</th>\n",
              "      <td>32</td>\n",
              "      <td>M</td>\n",
              "      <td>38000</td>\n",
              "      <td>informational</td>\n",
              "      <td>1</td>\n",
              "      <td>2</td>\n",
              "    </tr>\n",
              "    <tr>\n",
              "      <th>1</th>\n",
              "      <td>62</td>\n",
              "      <td>F</td>\n",
              "      <td>98000</td>\n",
              "      <td>informational</td>\n",
              "      <td>0</td>\n",
              "      <td>2</td>\n",
              "    </tr>\n",
              "    <tr>\n",
              "      <th>2</th>\n",
              "      <td>67</td>\n",
              "      <td>M</td>\n",
              "      <td>97000</td>\n",
              "      <td>discount</td>\n",
              "      <td>1</td>\n",
              "      <td>1</td>\n",
              "    </tr>\n",
              "    <tr>\n",
              "      <th>3</th>\n",
              "      <td>24</td>\n",
              "      <td>M</td>\n",
              "      <td>38000</td>\n",
              "      <td>discount</td>\n",
              "      <td>1</td>\n",
              "      <td>1</td>\n",
              "    </tr>\n",
              "    <tr>\n",
              "      <th>4</th>\n",
              "      <td>51</td>\n",
              "      <td>F</td>\n",
              "      <td>90000</td>\n",
              "      <td>informational</td>\n",
              "      <td>0</td>\n",
              "      <td>2</td>\n",
              "    </tr>\n",
              "  </tbody>\n",
              "</table>\n",
              "</div>"
            ],
            "text/plain": [
              "   age gender  income     offer_type  Gender  Offer_type\n",
              "0   32      M   38000  informational       1           2\n",
              "1   62      F   98000  informational       0           2\n",
              "2   67      M   97000       discount       1           1\n",
              "3   24      M   38000       discount       1           1\n",
              "4   51      F   90000  informational       0           2"
            ]
          },
          "metadata": {
            "tags": []
          },
          "execution_count": 342
        }
      ]
    },
    {
      "cell_type": "markdown",
      "metadata": {
        "id": "yugsJHz3ftjO"
      },
      "source": [
        "## Droping Unwanted Columns"
      ]
    },
    {
      "cell_type": "code",
      "metadata": {
        "colab": {
          "base_uri": "https://localhost:8080/",
          "height": 419
        },
        "id": "UKxEYyDqfyBz",
        "outputId": "07b10d2a-2131-41c0-cfb0-7904a67721d1"
      },
      "source": [
        "c=df.drop(['gender','offer_type'],axis='columns')\r\n",
        "c\r\n"
      ],
      "execution_count": 343,
      "outputs": [
        {
          "output_type": "execute_result",
          "data": {
            "text/html": [
              "<div>\n",
              "<style scoped>\n",
              "    .dataframe tbody tr th:only-of-type {\n",
              "        vertical-align: middle;\n",
              "    }\n",
              "\n",
              "    .dataframe tbody tr th {\n",
              "        vertical-align: top;\n",
              "    }\n",
              "\n",
              "    .dataframe thead th {\n",
              "        text-align: right;\n",
              "    }\n",
              "</style>\n",
              "<table border=\"1\" class=\"dataframe\">\n",
              "  <thead>\n",
              "    <tr style=\"text-align: right;\">\n",
              "      <th></th>\n",
              "      <th>age</th>\n",
              "      <th>income</th>\n",
              "      <th>Gender</th>\n",
              "      <th>Offer_type</th>\n",
              "    </tr>\n",
              "  </thead>\n",
              "  <tbody>\n",
              "    <tr>\n",
              "      <th>0</th>\n",
              "      <td>32</td>\n",
              "      <td>38000</td>\n",
              "      <td>1</td>\n",
              "      <td>2</td>\n",
              "    </tr>\n",
              "    <tr>\n",
              "      <th>1</th>\n",
              "      <td>62</td>\n",
              "      <td>98000</td>\n",
              "      <td>0</td>\n",
              "      <td>2</td>\n",
              "    </tr>\n",
              "    <tr>\n",
              "      <th>2</th>\n",
              "      <td>67</td>\n",
              "      <td>97000</td>\n",
              "      <td>1</td>\n",
              "      <td>1</td>\n",
              "    </tr>\n",
              "    <tr>\n",
              "      <th>3</th>\n",
              "      <td>24</td>\n",
              "      <td>38000</td>\n",
              "      <td>1</td>\n",
              "      <td>1</td>\n",
              "    </tr>\n",
              "    <tr>\n",
              "      <th>4</th>\n",
              "      <td>51</td>\n",
              "      <td>90000</td>\n",
              "      <td>0</td>\n",
              "      <td>2</td>\n",
              "    </tr>\n",
              "    <tr>\n",
              "      <th>...</th>\n",
              "      <td>...</td>\n",
              "      <td>...</td>\n",
              "      <td>...</td>\n",
              "      <td>...</td>\n",
              "    </tr>\n",
              "    <tr>\n",
              "      <th>131660</th>\n",
              "      <td>28</td>\n",
              "      <td>68000</td>\n",
              "      <td>1</td>\n",
              "      <td>1</td>\n",
              "    </tr>\n",
              "    <tr>\n",
              "      <th>131661</th>\n",
              "      <td>56</td>\n",
              "      <td>65000</td>\n",
              "      <td>1</td>\n",
              "      <td>1</td>\n",
              "    </tr>\n",
              "    <tr>\n",
              "      <th>131662</th>\n",
              "      <td>68</td>\n",
              "      <td>50000</td>\n",
              "      <td>0</td>\n",
              "      <td>1</td>\n",
              "    </tr>\n",
              "    <tr>\n",
              "      <th>131663</th>\n",
              "      <td>58</td>\n",
              "      <td>68000</td>\n",
              "      <td>0</td>\n",
              "      <td>0</td>\n",
              "    </tr>\n",
              "    <tr>\n",
              "      <th>131664</th>\n",
              "      <td>59</td>\n",
              "      <td>108000</td>\n",
              "      <td>1</td>\n",
              "      <td>1</td>\n",
              "    </tr>\n",
              "  </tbody>\n",
              "</table>\n",
              "<p>131665 rows × 4 columns</p>\n",
              "</div>"
            ],
            "text/plain": [
              "        age  income  Gender  Offer_type\n",
              "0        32   38000       1           2\n",
              "1        62   98000       0           2\n",
              "2        67   97000       1           1\n",
              "3        24   38000       1           1\n",
              "4        51   90000       0           2\n",
              "...     ...     ...     ...         ...\n",
              "131660   28   68000       1           1\n",
              "131661   56   65000       1           1\n",
              "131662   68   50000       0           1\n",
              "131663   58   68000       0           0\n",
              "131664   59  108000       1           1\n",
              "\n",
              "[131665 rows x 4 columns]"
            ]
          },
          "metadata": {
            "tags": []
          },
          "execution_count": 343
        }
      ]
    },
    {
      "cell_type": "code",
      "metadata": {
        "colab": {
          "base_uri": "https://localhost:8080/",
          "height": 204
        },
        "id": "ZgSJE00_hDWj",
        "outputId": "6ffc397b-6a9c-4abc-a64e-a0f0644109ee"
      },
      "source": [
        "c.head()"
      ],
      "execution_count": 344,
      "outputs": [
        {
          "output_type": "execute_result",
          "data": {
            "text/html": [
              "<div>\n",
              "<style scoped>\n",
              "    .dataframe tbody tr th:only-of-type {\n",
              "        vertical-align: middle;\n",
              "    }\n",
              "\n",
              "    .dataframe tbody tr th {\n",
              "        vertical-align: top;\n",
              "    }\n",
              "\n",
              "    .dataframe thead th {\n",
              "        text-align: right;\n",
              "    }\n",
              "</style>\n",
              "<table border=\"1\" class=\"dataframe\">\n",
              "  <thead>\n",
              "    <tr style=\"text-align: right;\">\n",
              "      <th></th>\n",
              "      <th>age</th>\n",
              "      <th>income</th>\n",
              "      <th>Gender</th>\n",
              "      <th>Offer_type</th>\n",
              "    </tr>\n",
              "  </thead>\n",
              "  <tbody>\n",
              "    <tr>\n",
              "      <th>0</th>\n",
              "      <td>32</td>\n",
              "      <td>38000</td>\n",
              "      <td>1</td>\n",
              "      <td>2</td>\n",
              "    </tr>\n",
              "    <tr>\n",
              "      <th>1</th>\n",
              "      <td>62</td>\n",
              "      <td>98000</td>\n",
              "      <td>0</td>\n",
              "      <td>2</td>\n",
              "    </tr>\n",
              "    <tr>\n",
              "      <th>2</th>\n",
              "      <td>67</td>\n",
              "      <td>97000</td>\n",
              "      <td>1</td>\n",
              "      <td>1</td>\n",
              "    </tr>\n",
              "    <tr>\n",
              "      <th>3</th>\n",
              "      <td>24</td>\n",
              "      <td>38000</td>\n",
              "      <td>1</td>\n",
              "      <td>1</td>\n",
              "    </tr>\n",
              "    <tr>\n",
              "      <th>4</th>\n",
              "      <td>51</td>\n",
              "      <td>90000</td>\n",
              "      <td>0</td>\n",
              "      <td>2</td>\n",
              "    </tr>\n",
              "  </tbody>\n",
              "</table>\n",
              "</div>"
            ],
            "text/plain": [
              "   age  income  Gender  Offer_type\n",
              "0   32   38000       1           2\n",
              "1   62   98000       0           2\n",
              "2   67   97000       1           1\n",
              "3   24   38000       1           1\n",
              "4   51   90000       0           2"
            ]
          },
          "metadata": {
            "tags": []
          },
          "execution_count": 344
        }
      ]
    },
    {
      "cell_type": "code",
      "metadata": {
        "id": "T3eolAPCdxLe"
      },
      "source": [
        "feature_cols = [\"age\",\"income\",\"Gender\",\"Offer_type\"]\r\n",
        "X = c[feature_cols] # Features\r\n",
        "y = c.Offer_type # target Variable"
      ],
      "execution_count": 345,
      "outputs": []
    },
    {
      "cell_type": "markdown",
      "metadata": {
        "id": "qqimcl6jl1OW"
      },
      "source": [
        "## Spliting Data"
      ]
    },
    {
      "cell_type": "code",
      "metadata": {
        "colab": {
          "base_uri": "https://localhost:8080/"
        },
        "id": "r9ZebigGdlbm",
        "outputId": "a1d11439-0835-40cd-a0db-38b7d6f2c4b2"
      },
      "source": [
        "X_train, X_test, y_train, y_test = train_test_split(X, y, test_size=0.33,random_state=1)\r\n",
        "\r\n",
        "print(X_train.shape)\r\n",
        "print(y_train.shape)\r\n",
        "print(X_test.shape)\r\n",
        "print(y_test.shape)"
      ],
      "execution_count": 372,
      "outputs": [
        {
          "output_type": "stream",
          "text": [
            "(88215, 5)\n",
            "(88215,)\n",
            "(43450, 5)\n",
            "(43450,)\n"
          ],
          "name": "stdout"
        }
      ]
    },
    {
      "cell_type": "markdown",
      "metadata": {
        "id": "scUTTY71mCZs"
      },
      "source": [
        "## Importing DecisionTreeClassifier Object"
      ]
    },
    {
      "cell_type": "code",
      "metadata": {
        "id": "YTvONAXDevQ9"
      },
      "source": [
        "from sklearn.tree import DecisionTreeClassifier"
      ],
      "execution_count": 370,
      "outputs": []
    },
    {
      "cell_type": "markdown",
      "metadata": {
        "id": "BPJysQ_Smj4C"
      },
      "source": [
        "## Applying gini Method"
      ]
    },
    {
      "cell_type": "code",
      "metadata": {
        "colab": {
          "base_uri": "https://localhost:8080/"
        },
        "id": "P-nlNo5JfK1i",
        "outputId": "a7e0caec-ca98-420c-9688-e13772317c09"
      },
      "source": [
        "classifier = DecisionTreeClassifier(criterion='gini')\r\n",
        "classifier.fit(X_train,y_train)\r\n",
        "\r\n",
        "print(\"Score\",classifier.score(X_test,y_test))\r\n",
        "\r\n",
        "#print(\"Prediction\",classifier.predict([[24,38000,1,1,1]]))\r\n",
        "\r\n",
        "print(\"Pridiction\",classifier.predict(X_test))\r\n"
      ],
      "execution_count": 373,
      "outputs": [
        {
          "output_type": "stream",
          "text": [
            "Score 1.0\n",
            "Pridiction [0 1 0 ... 1 0 0]\n"
          ],
          "name": "stdout"
        }
      ]
    },
    {
      "cell_type": "markdown",
      "metadata": {
        "id": "U5eb_7yEmsPS"
      },
      "source": [
        "## Applying Entropy Method"
      ]
    },
    {
      "cell_type": "code",
      "metadata": {
        "colab": {
          "base_uri": "https://localhost:8080/"
        },
        "id": "yysdqzJTcqhN",
        "outputId": "72387ca7-8d4c-48ae-f995-f1f75b0166d6"
      },
      "source": [
        "model_en = tree.DecisionTreeClassifier(criterion='entropy')\r\n",
        "#model_en.fit(c,target)\r\n",
        "#model_en.score(c,target)\r\n",
        "\r\n",
        "print(model_en.fit(X_train,y_train))\r\n",
        "\r\n",
        "print(\"Score\",model_en.score(X_test,y_test))\r\n",
        "\r\n",
        "pridict = model_en.predict(X_test)\r\n",
        "print(pridict)\r\n"
      ],
      "execution_count": 349,
      "outputs": [
        {
          "output_type": "stream",
          "text": [
            "DecisionTreeClassifier(ccp_alpha=0.0, class_weight=None, criterion='entropy',\n",
            "                       max_depth=None, max_features=None, max_leaf_nodes=None,\n",
            "                       min_impurity_decrease=0.0, min_impurity_split=None,\n",
            "                       min_samples_leaf=1, min_samples_split=2,\n",
            "                       min_weight_fraction_leaf=0.0, presort='deprecated',\n",
            "                       random_state=None, splitter='best')\n",
            "Score 1.0\n",
            "[0 1 0 ... 1 2 1]\n"
          ],
          "name": "stdout"
        }
      ]
    },
    {
      "cell_type": "markdown",
      "metadata": {
        "id": "1AleB4IblmSE"
      },
      "source": [
        "## Performing Standard Scalar"
      ]
    },
    {
      "cell_type": "code",
      "metadata": {
        "id": "JJ0WEX-zgwhN"
      },
      "source": [
        "from sklearn.preprocessing import StandardScaler\r\n",
        "sc = StandardScaler()"
      ],
      "execution_count": 350,
      "outputs": []
    },
    {
      "cell_type": "code",
      "metadata": {
        "colab": {
          "base_uri": "https://localhost:8080/"
        },
        "id": "b4MVIYXPg9nP",
        "outputId": "24870c7c-a9c3-4f95-db44-c8a0fca956f0"
      },
      "source": [
        "sc.fit(X_train)"
      ],
      "execution_count": 351,
      "outputs": [
        {
          "output_type": "execute_result",
          "data": {
            "text/plain": [
              "StandardScaler(copy=True, with_mean=True, with_std=True)"
            ]
          },
          "metadata": {
            "tags": []
          },
          "execution_count": 351
        }
      ]
    },
    {
      "cell_type": "code",
      "metadata": {
        "id": "Ctt4OCT6hDke"
      },
      "source": [
        "X_train_sc = sc.transform(X_train)\r\n",
        "X_test_sc = sc.transform(X_test)"
      ],
      "execution_count": 352,
      "outputs": []
    },
    {
      "cell_type": "code",
      "metadata": {
        "colab": {
          "base_uri": "https://localhost:8080/"
        },
        "id": "j1SY8pQ_hShy",
        "outputId": "5750cb43-a758-4143-dab0-4ec3d73d45f2"
      },
      "source": [
        "classifier_sc = DecisionTreeClassifier(criterion='gini')\r\n",
        "classifier_sc.fit(X_train_sc,y_train)\r\n",
        "\r\n",
        "print(\"score\",classifier_sc.score(X_test_sc,y_test))"
      ],
      "execution_count": 353,
      "outputs": [
        {
          "output_type": "stream",
          "text": [
            "score 1.0\n"
          ],
          "name": "stdout"
        }
      ]
    },
    {
      "cell_type": "markdown",
      "metadata": {
        "id": "RexLMRVpVDj8"
      },
      "source": [
        "# Problem 2"
      ]
    },
    {
      "cell_type": "code",
      "metadata": {
        "colab": {
          "base_uri": "https://localhost:8080/",
          "height": 419
        },
        "id": "YHR-wmDWVHIz",
        "outputId": "908582b9-a7c4-4349-cae0-c8df4d9797fc"
      },
      "source": [
        "\r\n",
        "\r\n",
        "P2 = df2.toPandas()  #spark dataframe  into panda\r\n",
        "P2\r\n",
        "\r\n",
        "col_names = [\"channels\",\"offer_type\"]\r\n",
        "col_names\r\n",
        "\r\n",
        "P2\r\n",
        "\r\n"
      ],
      "execution_count": 354,
      "outputs": [
        {
          "output_type": "execute_result",
          "data": {
            "text/html": [
              "<div>\n",
              "<style scoped>\n",
              "    .dataframe tbody tr th:only-of-type {\n",
              "        vertical-align: middle;\n",
              "    }\n",
              "\n",
              "    .dataframe tbody tr th {\n",
              "        vertical-align: top;\n",
              "    }\n",
              "\n",
              "    .dataframe thead th {\n",
              "        text-align: right;\n",
              "    }\n",
              "</style>\n",
              "<table border=\"1\" class=\"dataframe\">\n",
              "  <thead>\n",
              "    <tr style=\"text-align: right;\">\n",
              "      <th></th>\n",
              "      <th>channels</th>\n",
              "      <th>offer_type</th>\n",
              "    </tr>\n",
              "  </thead>\n",
              "  <tbody>\n",
              "    <tr>\n",
              "      <th>0</th>\n",
              "      <td>[web, email, mobile, social]</td>\n",
              "      <td>bogo</td>\n",
              "    </tr>\n",
              "    <tr>\n",
              "      <th>1</th>\n",
              "      <td>[web, email, mobile, social]</td>\n",
              "      <td>bogo</td>\n",
              "    </tr>\n",
              "    <tr>\n",
              "      <th>2</th>\n",
              "      <td>[web, email, mobile, social]</td>\n",
              "      <td>discount</td>\n",
              "    </tr>\n",
              "    <tr>\n",
              "      <th>3</th>\n",
              "      <td>[email, mobile, social]</td>\n",
              "      <td>bogo</td>\n",
              "    </tr>\n",
              "    <tr>\n",
              "      <th>4</th>\n",
              "      <td>[web, email, mobile, social]</td>\n",
              "      <td>discount</td>\n",
              "    </tr>\n",
              "    <tr>\n",
              "      <th>...</th>\n",
              "      <td>...</td>\n",
              "      <td>...</td>\n",
              "    </tr>\n",
              "    <tr>\n",
              "      <th>28239</th>\n",
              "      <td>[web, email, mobile, social]</td>\n",
              "      <td>bogo</td>\n",
              "    </tr>\n",
              "    <tr>\n",
              "      <th>28240</th>\n",
              "      <td>[web, email, mobile, social]</td>\n",
              "      <td>discount</td>\n",
              "    </tr>\n",
              "    <tr>\n",
              "      <th>28241</th>\n",
              "      <td>[web, email]</td>\n",
              "      <td>discount</td>\n",
              "    </tr>\n",
              "    <tr>\n",
              "      <th>28242</th>\n",
              "      <td>[web, email, mobile]</td>\n",
              "      <td>bogo</td>\n",
              "    </tr>\n",
              "    <tr>\n",
              "      <th>28243</th>\n",
              "      <td>[web, email, mobile, social]</td>\n",
              "      <td>discount</td>\n",
              "    </tr>\n",
              "  </tbody>\n",
              "</table>\n",
              "<p>28244 rows × 2 columns</p>\n",
              "</div>"
            ],
            "text/plain": [
              "                           channels offer_type\n",
              "0      [web, email, mobile, social]       bogo\n",
              "1      [web, email, mobile, social]       bogo\n",
              "2      [web, email, mobile, social]   discount\n",
              "3           [email, mobile, social]       bogo\n",
              "4      [web, email, mobile, social]   discount\n",
              "...                             ...        ...\n",
              "28239  [web, email, mobile, social]       bogo\n",
              "28240  [web, email, mobile, social]   discount\n",
              "28241                  [web, email]   discount\n",
              "28242          [web, email, mobile]       bogo\n",
              "28243  [web, email, mobile, social]   discount\n",
              "\n",
              "[28244 rows x 2 columns]"
            ]
          },
          "metadata": {
            "tags": []
          },
          "execution_count": 354
        }
      ]
    },
    {
      "cell_type": "markdown",
      "metadata": {
        "id": "Xe9TEgC_ZKG8"
      },
      "source": [
        "## Problem 3"
      ]
    },
    {
      "cell_type": "code",
      "metadata": {
        "id": "rqljI_18ZWpG",
        "colab": {
          "base_uri": "https://localhost:8080/",
          "height": 419
        },
        "outputId": "139ecf16-bab5-4b5a-d88a-6e14763387f1"
      },
      "source": [
        "#df3 = allOffers.select(\"event\",\"age\",\"gender\",\"income\",\"offer_type\")\r\n",
        "#df3.show(5)\r\n",
        "\r\n",
        "P3 = df3.toPandas()\r\n",
        "P3"
      ],
      "execution_count": 355,
      "outputs": [
        {
          "output_type": "execute_result",
          "data": {
            "text/html": [
              "<div>\n",
              "<style scoped>\n",
              "    .dataframe tbody tr th:only-of-type {\n",
              "        vertical-align: middle;\n",
              "    }\n",
              "\n",
              "    .dataframe tbody tr th {\n",
              "        vertical-align: top;\n",
              "    }\n",
              "\n",
              "    .dataframe thead th {\n",
              "        text-align: right;\n",
              "    }\n",
              "</style>\n",
              "<table border=\"1\" class=\"dataframe\">\n",
              "  <thead>\n",
              "    <tr style=\"text-align: right;\">\n",
              "      <th></th>\n",
              "      <th>event</th>\n",
              "      <th>age</th>\n",
              "      <th>gender</th>\n",
              "      <th>income</th>\n",
              "      <th>offer_type</th>\n",
              "    </tr>\n",
              "  </thead>\n",
              "  <tbody>\n",
              "    <tr>\n",
              "      <th>0</th>\n",
              "      <td>offer received</td>\n",
              "      <td>32</td>\n",
              "      <td>M</td>\n",
              "      <td>38000</td>\n",
              "      <td>informational</td>\n",
              "    </tr>\n",
              "    <tr>\n",
              "      <th>1</th>\n",
              "      <td>offer received</td>\n",
              "      <td>62</td>\n",
              "      <td>F</td>\n",
              "      <td>98000</td>\n",
              "      <td>informational</td>\n",
              "    </tr>\n",
              "    <tr>\n",
              "      <th>2</th>\n",
              "      <td>offer received</td>\n",
              "      <td>67</td>\n",
              "      <td>M</td>\n",
              "      <td>97000</td>\n",
              "      <td>discount</td>\n",
              "    </tr>\n",
              "    <tr>\n",
              "      <th>3</th>\n",
              "      <td>offer received</td>\n",
              "      <td>24</td>\n",
              "      <td>M</td>\n",
              "      <td>38000</td>\n",
              "      <td>discount</td>\n",
              "    </tr>\n",
              "    <tr>\n",
              "      <th>4</th>\n",
              "      <td>offer received</td>\n",
              "      <td>51</td>\n",
              "      <td>F</td>\n",
              "      <td>90000</td>\n",
              "      <td>informational</td>\n",
              "    </tr>\n",
              "    <tr>\n",
              "      <th>...</th>\n",
              "      <td>...</td>\n",
              "      <td>...</td>\n",
              "      <td>...</td>\n",
              "      <td>...</td>\n",
              "      <td>...</td>\n",
              "    </tr>\n",
              "    <tr>\n",
              "      <th>131660</th>\n",
              "      <td>offer viewed</td>\n",
              "      <td>28</td>\n",
              "      <td>M</td>\n",
              "      <td>68000</td>\n",
              "      <td>discount</td>\n",
              "    </tr>\n",
              "    <tr>\n",
              "      <th>131661</th>\n",
              "      <td>offer completed</td>\n",
              "      <td>56</td>\n",
              "      <td>M</td>\n",
              "      <td>65000</td>\n",
              "      <td>discount</td>\n",
              "    </tr>\n",
              "    <tr>\n",
              "      <th>131662</th>\n",
              "      <td>offer completed</td>\n",
              "      <td>68</td>\n",
              "      <td>F</td>\n",
              "      <td>50000</td>\n",
              "      <td>discount</td>\n",
              "    </tr>\n",
              "    <tr>\n",
              "      <th>131663</th>\n",
              "      <td>offer completed</td>\n",
              "      <td>58</td>\n",
              "      <td>F</td>\n",
              "      <td>68000</td>\n",
              "      <td>bogo</td>\n",
              "    </tr>\n",
              "    <tr>\n",
              "      <th>131664</th>\n",
              "      <td>offer completed</td>\n",
              "      <td>59</td>\n",
              "      <td>M</td>\n",
              "      <td>108000</td>\n",
              "      <td>discount</td>\n",
              "    </tr>\n",
              "  </tbody>\n",
              "</table>\n",
              "<p>131665 rows × 5 columns</p>\n",
              "</div>"
            ],
            "text/plain": [
              "                  event  age gender  income     offer_type\n",
              "0        offer received   32      M   38000  informational\n",
              "1        offer received   62      F   98000  informational\n",
              "2        offer received   67      M   97000       discount\n",
              "3        offer received   24      M   38000       discount\n",
              "4        offer received   51      F   90000  informational\n",
              "...                 ...  ...    ...     ...            ...\n",
              "131660     offer viewed   28      M   68000       discount\n",
              "131661  offer completed   56      M   65000       discount\n",
              "131662  offer completed   68      F   50000       discount\n",
              "131663  offer completed   58      F   68000           bogo\n",
              "131664  offer completed   59      M  108000       discount\n",
              "\n",
              "[131665 rows x 5 columns]"
            ]
          },
          "metadata": {
            "tags": []
          },
          "execution_count": 355
        }
      ]
    },
    {
      "cell_type": "markdown",
      "metadata": {
        "id": "c1dwHT1uZyJR"
      },
      "source": [
        "## Label Encoding\r\n"
      ]
    },
    {
      "cell_type": "code",
      "metadata": {
        "id": "K5oWigcWcILy",
        "colab": {
          "base_uri": "https://localhost:8080/"
        },
        "outputId": "06f27560-96ff-47c6-af0d-5603b74239ba"
      },
      "source": [
        "P3.dtypes"
      ],
      "execution_count": 356,
      "outputs": [
        {
          "output_type": "execute_result",
          "data": {
            "text/plain": [
              "event         object\n",
              "age            int64\n",
              "gender        object\n",
              "income         int64\n",
              "offer_type    object\n",
              "dtype: object"
            ]
          },
          "metadata": {
            "tags": []
          },
          "execution_count": 356
        }
      ]
    },
    {
      "cell_type": "code",
      "metadata": {
        "id": "yaQbaTCicUpq",
        "colab": {
          "base_uri": "https://localhost:8080/",
          "height": 204
        },
        "outputId": "ff7bf42d-5c3a-4ce1-ffda-1a6d34c3dfb6"
      },
      "source": [
        "from sklearn import preprocessing\r\n",
        "# label_encoder object knows how to understand word labels. \r\n",
        "label_encoder = preprocessing.LabelEncoder()\r\n",
        "# Encode labels in column 'Country'. \r\n",
        "P3['Event']= label_encoder.fit_transform(P3['event']) \r\n",
        "P3.head()\r\n",
        "\r\n",
        "P3['Gender']= label_encoder.fit_transform(P3['gender']) \r\n",
        "P3.head()\r\n",
        "\r\n",
        "P3['Offer_type']= label_encoder.fit_transform(P3['offer_type']) \r\n",
        "P3.head()\r\n",
        "\r\n",
        "\r\n",
        "\r\n"
      ],
      "execution_count": 357,
      "outputs": [
        {
          "output_type": "execute_result",
          "data": {
            "text/html": [
              "<div>\n",
              "<style scoped>\n",
              "    .dataframe tbody tr th:only-of-type {\n",
              "        vertical-align: middle;\n",
              "    }\n",
              "\n",
              "    .dataframe tbody tr th {\n",
              "        vertical-align: top;\n",
              "    }\n",
              "\n",
              "    .dataframe thead th {\n",
              "        text-align: right;\n",
              "    }\n",
              "</style>\n",
              "<table border=\"1\" class=\"dataframe\">\n",
              "  <thead>\n",
              "    <tr style=\"text-align: right;\">\n",
              "      <th></th>\n",
              "      <th>event</th>\n",
              "      <th>age</th>\n",
              "      <th>gender</th>\n",
              "      <th>income</th>\n",
              "      <th>offer_type</th>\n",
              "      <th>Event</th>\n",
              "      <th>Gender</th>\n",
              "      <th>Offer_type</th>\n",
              "    </tr>\n",
              "  </thead>\n",
              "  <tbody>\n",
              "    <tr>\n",
              "      <th>0</th>\n",
              "      <td>offer received</td>\n",
              "      <td>32</td>\n",
              "      <td>M</td>\n",
              "      <td>38000</td>\n",
              "      <td>informational</td>\n",
              "      <td>1</td>\n",
              "      <td>1</td>\n",
              "      <td>2</td>\n",
              "    </tr>\n",
              "    <tr>\n",
              "      <th>1</th>\n",
              "      <td>offer received</td>\n",
              "      <td>62</td>\n",
              "      <td>F</td>\n",
              "      <td>98000</td>\n",
              "      <td>informational</td>\n",
              "      <td>1</td>\n",
              "      <td>0</td>\n",
              "      <td>2</td>\n",
              "    </tr>\n",
              "    <tr>\n",
              "      <th>2</th>\n",
              "      <td>offer received</td>\n",
              "      <td>67</td>\n",
              "      <td>M</td>\n",
              "      <td>97000</td>\n",
              "      <td>discount</td>\n",
              "      <td>1</td>\n",
              "      <td>1</td>\n",
              "      <td>1</td>\n",
              "    </tr>\n",
              "    <tr>\n",
              "      <th>3</th>\n",
              "      <td>offer received</td>\n",
              "      <td>24</td>\n",
              "      <td>M</td>\n",
              "      <td>38000</td>\n",
              "      <td>discount</td>\n",
              "      <td>1</td>\n",
              "      <td>1</td>\n",
              "      <td>1</td>\n",
              "    </tr>\n",
              "    <tr>\n",
              "      <th>4</th>\n",
              "      <td>offer received</td>\n",
              "      <td>51</td>\n",
              "      <td>F</td>\n",
              "      <td>90000</td>\n",
              "      <td>informational</td>\n",
              "      <td>1</td>\n",
              "      <td>0</td>\n",
              "      <td>2</td>\n",
              "    </tr>\n",
              "  </tbody>\n",
              "</table>\n",
              "</div>"
            ],
            "text/plain": [
              "            event  age gender  income     offer_type  Event  Gender  Offer_type\n",
              "0  offer received   32      M   38000  informational      1       1           2\n",
              "1  offer received   62      F   98000  informational      1       0           2\n",
              "2  offer received   67      M   97000       discount      1       1           1\n",
              "3  offer received   24      M   38000       discount      1       1           1\n",
              "4  offer received   51      F   90000  informational      1       0           2"
            ]
          },
          "metadata": {
            "tags": []
          },
          "execution_count": 357
        }
      ]
    },
    {
      "cell_type": "code",
      "metadata": {
        "colab": {
          "base_uri": "https://localhost:8080/",
          "height": 204
        },
        "id": "G0cU5V-as5tC",
        "outputId": "7b6067ac-f3ba-4fba-f41d-75af5fbc3c6b"
      },
      "source": [
        "\r\n",
        "d = P3.drop(['event','gender','offer_type'],axis='columns')\r\n",
        "d.head()\r\n"
      ],
      "execution_count": 358,
      "outputs": [
        {
          "output_type": "execute_result",
          "data": {
            "text/html": [
              "<div>\n",
              "<style scoped>\n",
              "    .dataframe tbody tr th:only-of-type {\n",
              "        vertical-align: middle;\n",
              "    }\n",
              "\n",
              "    .dataframe tbody tr th {\n",
              "        vertical-align: top;\n",
              "    }\n",
              "\n",
              "    .dataframe thead th {\n",
              "        text-align: right;\n",
              "    }\n",
              "</style>\n",
              "<table border=\"1\" class=\"dataframe\">\n",
              "  <thead>\n",
              "    <tr style=\"text-align: right;\">\n",
              "      <th></th>\n",
              "      <th>age</th>\n",
              "      <th>income</th>\n",
              "      <th>Event</th>\n",
              "      <th>Gender</th>\n",
              "      <th>Offer_type</th>\n",
              "    </tr>\n",
              "  </thead>\n",
              "  <tbody>\n",
              "    <tr>\n",
              "      <th>0</th>\n",
              "      <td>32</td>\n",
              "      <td>38000</td>\n",
              "      <td>1</td>\n",
              "      <td>1</td>\n",
              "      <td>2</td>\n",
              "    </tr>\n",
              "    <tr>\n",
              "      <th>1</th>\n",
              "      <td>62</td>\n",
              "      <td>98000</td>\n",
              "      <td>1</td>\n",
              "      <td>0</td>\n",
              "      <td>2</td>\n",
              "    </tr>\n",
              "    <tr>\n",
              "      <th>2</th>\n",
              "      <td>67</td>\n",
              "      <td>97000</td>\n",
              "      <td>1</td>\n",
              "      <td>1</td>\n",
              "      <td>1</td>\n",
              "    </tr>\n",
              "    <tr>\n",
              "      <th>3</th>\n",
              "      <td>24</td>\n",
              "      <td>38000</td>\n",
              "      <td>1</td>\n",
              "      <td>1</td>\n",
              "      <td>1</td>\n",
              "    </tr>\n",
              "    <tr>\n",
              "      <th>4</th>\n",
              "      <td>51</td>\n",
              "      <td>90000</td>\n",
              "      <td>1</td>\n",
              "      <td>0</td>\n",
              "      <td>2</td>\n",
              "    </tr>\n",
              "  </tbody>\n",
              "</table>\n",
              "</div>"
            ],
            "text/plain": [
              "   age  income  Event  Gender  Offer_type\n",
              "0   32   38000      1       1           2\n",
              "1   62   98000      1       0           2\n",
              "2   67   97000      1       1           1\n",
              "3   24   38000      1       1           1\n",
              "4   51   90000      1       0           2"
            ]
          },
          "metadata": {
            "tags": []
          },
          "execution_count": 358
        }
      ]
    },
    {
      "cell_type": "markdown",
      "metadata": {
        "id": "5jiNDzzwd69Q"
      },
      "source": [
        "## Features Selection"
      ]
    },
    {
      "cell_type": "code",
      "metadata": {
        "id": "LgKb3KcSdjNF"
      },
      "source": [
        "feature_cols = [\"age\",\"income\",\"Event\",\"Gender\",\"Offer_type\"]\r\n",
        "X = d[feature_cols] # Features\r\n",
        "y = d.Offer_type # target Variable"
      ],
      "execution_count": 359,
      "outputs": []
    },
    {
      "cell_type": "code",
      "metadata": {
        "id": "8KgTpST9d2JK"
      },
      "source": [
        "X_train, X_test, y_train, y_test = train_test_split(X, y, test_size=0.3, random_state=0)"
      ],
      "execution_count": 360,
      "outputs": []
    },
    {
      "cell_type": "markdown",
      "metadata": {
        "id": "xxY0MacleE1w"
      },
      "source": [
        "## Spliting Data"
      ]
    },
    {
      "cell_type": "code",
      "metadata": {
        "id": "mZd_v5l-eIg9",
        "colab": {
          "base_uri": "https://localhost:8080/"
        },
        "outputId": "d0012c2f-680f-4fda-d9bc-c844df2334d4"
      },
      "source": [
        "# Create Decision Tree classifer object\r\n",
        "clf = DecisionTreeClassifier()\r\n",
        "\r\n",
        "# Train Decision Tree Classifer\r\n",
        "clf = clf.fit(X_train,y_train)\r\n",
        "\r\n",
        "#Predict the response for test dataset\r\n",
        "y_pred = clf.predict(X_test)\r\n",
        "print(y_pred)"
      ],
      "execution_count": 361,
      "outputs": [
        {
          "output_type": "stream",
          "text": [
            "[0 1 0 ... 2 1 0]\n"
          ],
          "name": "stdout"
        }
      ]
    },
    {
      "cell_type": "code",
      "metadata": {
        "colab": {
          "base_uri": "https://localhost:8080/"
        },
        "id": "PraCOQUroIts",
        "outputId": "8c58ae9b-b4d5-490d-8590-f6ffef23baf9"
      },
      "source": [
        "clf = DecisionTreeClassifier(criterion='gini', min_samples_split=50)\r\n",
        "clf.fit(X_train, y_train)\r\n",
        "print('Accuracy Score on train data: ', accuracy_score(y_true=y_train, y_pred=clf.predict(X_train)))\r\n",
        "print('Accuracy Score on the test data: ', accuracy_score(y_true=y_test, y_pred=clf.predict(X_test)))"
      ],
      "execution_count": 375,
      "outputs": [
        {
          "output_type": "stream",
          "text": [
            "Accuracy Score on train data:  1.0\n",
            "Accuracy Score on the test data:  1.0\n"
          ],
          "name": "stdout"
        }
      ]
    },
    {
      "cell_type": "code",
      "metadata": {
        "id": "cPX3571ueT-8",
        "colab": {
          "base_uri": "https://localhost:8080/"
        },
        "outputId": "c7de96a2-87fc-40a1-dda7-856ec5440601"
      },
      "source": [
        "clf = DecisionTreeClassifier(criterion='entropy', min_samples_split=50)\r\n",
        "clf.fit(X_train, y_train)\r\n",
        "print('Accuracy Score on train data: ', accuracy_score(y_true=y_train, y_pred=clf.predict(X_train)))\r\n",
        "print('Accuracy Score on the test data: ', accuracy_score(y_true=y_test, y_pred=clf.predict(X_test)))"
      ],
      "execution_count": 363,
      "outputs": [
        {
          "output_type": "stream",
          "text": [
            "Accuracy Score on train data:  1.0\n",
            "Accuracy Score on the test data:  1.0\n"
          ],
          "name": "stdout"
        }
      ]
    },
    {
      "cell_type": "markdown",
      "metadata": {
        "id": "dwXomc5soYsf"
      },
      "source": [
        "## Performing StandardSclar"
      ]
    },
    {
      "cell_type": "code",
      "metadata": {
        "id": "jw2GwDzZodjL"
      },
      "source": [
        "from sklearn.preprocessing import StandardScaler\r\n",
        "sc = StandardScaler()"
      ],
      "execution_count": 364,
      "outputs": []
    },
    {
      "cell_type": "code",
      "metadata": {
        "colab": {
          "base_uri": "https://localhost:8080/"
        },
        "id": "oBiLfbtnonX4",
        "outputId": "82a6b868-14a3-4262-9e44-cc749c3334c9"
      },
      "source": [
        "sc.fit(X_train)"
      ],
      "execution_count": 365,
      "outputs": [
        {
          "output_type": "execute_result",
          "data": {
            "text/plain": [
              "StandardScaler(copy=True, with_mean=True, with_std=True)"
            ]
          },
          "metadata": {
            "tags": []
          },
          "execution_count": 365
        }
      ]
    },
    {
      "cell_type": "code",
      "metadata": {
        "id": "XOdtgnl9pJ4R"
      },
      "source": [
        "X_train_sc1 = sc.transform(X_train)\r\n",
        "X_test_sc2 = sc.transform(X_test)"
      ],
      "execution_count": 366,
      "outputs": []
    },
    {
      "cell_type": "code",
      "metadata": {
        "colab": {
          "base_uri": "https://localhost:8080/"
        },
        "id": "goC--S6mpSaH",
        "outputId": "ebf6b019-2434-4523-b58f-dcc8170022bf"
      },
      "source": [
        "classifier_sc = DecisionTreeClassifier(criterion='gini')\r\n",
        "classifier_sc.fit(X_train_sc1,y_train)\r\n",
        "\r\n",
        "print(\"score\",classifier_sc.score(X_test_sc2,y_test))\r\n",
        "\r\n",
        "p = classifier_sc.predict(X_test)\r\n",
        "print(p)"
      ],
      "execution_count": 367,
      "outputs": [
        {
          "output_type": "stream",
          "text": [
            "score 1.0\n",
            "[1 1 1 ... 2 1 1]\n"
          ],
          "name": "stdout"
        }
      ]
    }
  ]
}